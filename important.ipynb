{
 "cells": [
  {
   "cell_type": "code",
   "execution_count": 9,
   "metadata": {},
   "outputs": [],
   "source": [
    "import numpy as np\n",
    "import pandas as pd\n",
    "import matplotlib.pyplot as plt\n",
    "from sklearn.preprocessing import StandardScaler\n",
    "from imblearn.over_sampling import RandomOverSampler\n",
    "\n",
    "import umap\n",
    "from xgboost import XGBClassifier\n",
    "from sklearn.decomposition import PCA\n",
    "from sklearn.manifold import TSNE\n",
    "from sklearn.cluster import KMeans\n",
    "\n",
    "from sklearn.model_selection import train_test_split\n",
    "from sklearn.preprocessing import LabelEncoder, StandardScaler\n",
    "from sklearn.ensemble import GradientBoostingClassifier, RandomForestClassifier\n",
    "from sklearn.linear_model import LogisticRegression\n",
    "from sklearn.svm import SVC\n",
    "from sklearn.metrics import confusion_matrix, ConfusionMatrixDisplay\n",
    "from sklearn.neighbors import KNeighborsClassifier\n",
    "from sklearn.metrics import (\n",
    "    f1_score,\n",
    "    precision_score,\n",
    "    recall_score,\n",
    "    classification_report,\n",
    "    accuracy_score,\n",
    "    roc_auc_score,\n",
    ")\n"
   ]
  },
  {
   "cell_type": "code",
   "execution_count": 10,
   "metadata": {},
   "outputs": [
    {
     "name": "stdout",
     "output_type": "stream",
     "text": [
      "Categorical Columns: ['Name', 'Fertility', 'Photoperiod', 'Category_pH', 'Soil_Type', 'Season']\n",
      "Numerical Columns: ['Temperature', 'Rainfall', 'pH', 'Light_Hours', 'Light_Intensity', 'Rh', 'Nitrogen', 'Phosphorus', 'Potassium', 'Yield', 'N_Ratio', 'P_Ratio', 'K_Ratio']\n"
     ]
    }
   ],
   "source": [
    "data = pd.read_csv(\"./Soil Nutrients.csv\")\n",
    "categorical_cols = data.select_dtypes(include=[\"object\"]).columns\n",
    "numerical_cols = data.select_dtypes(include=[\"float64\"]).columns\n",
    "\n",
    "print(\"Categorical Columns:\", list(categorical_cols))\n",
    "print(\"Numerical Columns:\", list(numerical_cols))"
   ]
  },
  {
   "cell_type": "code",
   "execution_count": 11,
   "metadata": {},
   "outputs": [
    {
     "data": {
      "application/vnd.microsoft.datawrangler.viewer.v0+json": {
       "columns": [
        {
         "name": "index",
         "rawType": "int64",
         "type": "integer"
        },
        {
         "name": "Name",
         "rawType": "int64",
         "type": "integer"
        },
        {
         "name": "Fertility",
         "rawType": "int64",
         "type": "integer"
        },
        {
         "name": "Photoperiod",
         "rawType": "int64",
         "type": "integer"
        },
        {
         "name": "Temperature",
         "rawType": "float64",
         "type": "float"
        },
        {
         "name": "Rainfall",
         "rawType": "float64",
         "type": "float"
        },
        {
         "name": "pH",
         "rawType": "float64",
         "type": "float"
        },
        {
         "name": "Light_Hours",
         "rawType": "float64",
         "type": "float"
        },
        {
         "name": "Light_Intensity",
         "rawType": "float64",
         "type": "float"
        },
        {
         "name": "Rh",
         "rawType": "float64",
         "type": "float"
        },
        {
         "name": "Nitrogen",
         "rawType": "float64",
         "type": "float"
        },
        {
         "name": "Phosphorus",
         "rawType": "float64",
         "type": "float"
        },
        {
         "name": "Potassium",
         "rawType": "float64",
         "type": "float"
        },
        {
         "name": "Yield",
         "rawType": "float64",
         "type": "float"
        },
        {
         "name": "Category_pH",
         "rawType": "int64",
         "type": "integer"
        },
        {
         "name": "Soil_Type",
         "rawType": "int64",
         "type": "integer"
        },
        {
         "name": "Season",
         "rawType": "int64",
         "type": "integer"
        },
        {
         "name": "N_Ratio",
         "rawType": "float64",
         "type": "float"
        },
        {
         "name": "P_Ratio",
         "rawType": "float64",
         "type": "float"
        },
        {
         "name": "K_Ratio",
         "rawType": "float64",
         "type": "float"
        }
       ],
       "conversionMethod": "pd.DataFrame",
       "ref": "0154eb87-73fb-457b-9429-9bd3885ec7b6",
       "rows": [
        [
         "0",
         "19",
         "1",
         "0",
         "20.8879227807292",
         "747.86076492044",
         "6.57154752468899",
         "13.0914833109563",
         "533.762875715672",
         "91.1971962422373",
         "170.800381404677",
         "118.670057980644",
         "243.331210634148",
         "20.3695546169975",
         "0",
         "0",
         "2",
         "10.0",
         "10.0",
         "10.0"
        ],
        [
         "1",
         "19",
         "1",
         "0",
         "18.0627208763042",
         "711.104328780634",
         "6.25180620369805",
         "13.063015951482",
         "505.789101494269",
         "91.9396233984674",
         "179.290363887292",
         "121.020244350895",
         "246.910377557939",
         "20.4027509271319",
         "0",
         "0",
         "1",
         "10.0",
         "10.0",
         "10.0"
        ],
        [
         "2",
         "19",
         "1",
         "2",
         "16.7767822552963",
         "774.038246785553",
         "6.3469156727565",
         "12.9459268199875",
         "512.985616582096",
         "91.3872855759477",
         "181.44073227001",
         "116.936805538119",
         "242.699600700321",
         "19.158846788402",
         "0",
         "0",
         "2",
         "10.0",
         "10.0",
         "10.0"
        ],
        [
         "3",
         "19",
         "1",
         "2",
         "14.2809997525734",
         "665.633505666814",
         "6.25959848479199",
         "13.3189220696776",
         "484.860066810283",
         "91.2545975077002",
         "176.165281844706",
         "122.233153458625",
         "237.096892442197",
         "20.265745094281",
         "0",
         "0",
         "2",
         "10.0",
         "10.0",
         "10.0"
        ],
        [
         "4",
         "19",
         "1",
         "0",
         "21.4444904512977",
         "806.531454859021",
         "6.3843678378872",
         "13.3129150481162",
         "512.747307023423",
         "92.3548292065441",
         "182.935333974271",
         "126.088233928844",
         "243.880363647392",
         "20.3973359855375",
         "0",
         "0",
         "1",
         "10.0",
         "10.0",
         "10.0"
        ]
       ],
       "shape": {
        "columns": 19,
        "rows": 5
       }
      },
      "text/html": [
       "<div>\n",
       "<style scoped>\n",
       "    .dataframe tbody tr th:only-of-type {\n",
       "        vertical-align: middle;\n",
       "    }\n",
       "\n",
       "    .dataframe tbody tr th {\n",
       "        vertical-align: top;\n",
       "    }\n",
       "\n",
       "    .dataframe thead th {\n",
       "        text-align: right;\n",
       "    }\n",
       "</style>\n",
       "<table border=\"1\" class=\"dataframe\">\n",
       "  <thead>\n",
       "    <tr style=\"text-align: right;\">\n",
       "      <th></th>\n",
       "      <th>Name</th>\n",
       "      <th>Fertility</th>\n",
       "      <th>Photoperiod</th>\n",
       "      <th>Temperature</th>\n",
       "      <th>Rainfall</th>\n",
       "      <th>pH</th>\n",
       "      <th>Light_Hours</th>\n",
       "      <th>Light_Intensity</th>\n",
       "      <th>Rh</th>\n",
       "      <th>Nitrogen</th>\n",
       "      <th>Phosphorus</th>\n",
       "      <th>Potassium</th>\n",
       "      <th>Yield</th>\n",
       "      <th>Category_pH</th>\n",
       "      <th>Soil_Type</th>\n",
       "      <th>Season</th>\n",
       "      <th>N_Ratio</th>\n",
       "      <th>P_Ratio</th>\n",
       "      <th>K_Ratio</th>\n",
       "    </tr>\n",
       "  </thead>\n",
       "  <tbody>\n",
       "    <tr>\n",
       "      <th>0</th>\n",
       "      <td>19</td>\n",
       "      <td>1</td>\n",
       "      <td>0</td>\n",
       "      <td>20.887923</td>\n",
       "      <td>747.860765</td>\n",
       "      <td>6.571548</td>\n",
       "      <td>13.091483</td>\n",
       "      <td>533.762876</td>\n",
       "      <td>91.197196</td>\n",
       "      <td>170.800381</td>\n",
       "      <td>118.670058</td>\n",
       "      <td>243.331211</td>\n",
       "      <td>20.369555</td>\n",
       "      <td>0</td>\n",
       "      <td>0</td>\n",
       "      <td>2</td>\n",
       "      <td>10.0</td>\n",
       "      <td>10.0</td>\n",
       "      <td>10.0</td>\n",
       "    </tr>\n",
       "    <tr>\n",
       "      <th>1</th>\n",
       "      <td>19</td>\n",
       "      <td>1</td>\n",
       "      <td>0</td>\n",
       "      <td>18.062721</td>\n",
       "      <td>711.104329</td>\n",
       "      <td>6.251806</td>\n",
       "      <td>13.063016</td>\n",
       "      <td>505.789101</td>\n",
       "      <td>91.939623</td>\n",
       "      <td>179.290364</td>\n",
       "      <td>121.020244</td>\n",
       "      <td>246.910378</td>\n",
       "      <td>20.402751</td>\n",
       "      <td>0</td>\n",
       "      <td>0</td>\n",
       "      <td>1</td>\n",
       "      <td>10.0</td>\n",
       "      <td>10.0</td>\n",
       "      <td>10.0</td>\n",
       "    </tr>\n",
       "    <tr>\n",
       "      <th>2</th>\n",
       "      <td>19</td>\n",
       "      <td>1</td>\n",
       "      <td>2</td>\n",
       "      <td>16.776782</td>\n",
       "      <td>774.038247</td>\n",
       "      <td>6.346916</td>\n",
       "      <td>12.945927</td>\n",
       "      <td>512.985617</td>\n",
       "      <td>91.387286</td>\n",
       "      <td>181.440732</td>\n",
       "      <td>116.936806</td>\n",
       "      <td>242.699601</td>\n",
       "      <td>19.158847</td>\n",
       "      <td>0</td>\n",
       "      <td>0</td>\n",
       "      <td>2</td>\n",
       "      <td>10.0</td>\n",
       "      <td>10.0</td>\n",
       "      <td>10.0</td>\n",
       "    </tr>\n",
       "    <tr>\n",
       "      <th>3</th>\n",
       "      <td>19</td>\n",
       "      <td>1</td>\n",
       "      <td>2</td>\n",
       "      <td>14.281000</td>\n",
       "      <td>665.633506</td>\n",
       "      <td>6.259598</td>\n",
       "      <td>13.318922</td>\n",
       "      <td>484.860067</td>\n",
       "      <td>91.254598</td>\n",
       "      <td>176.165282</td>\n",
       "      <td>122.233153</td>\n",
       "      <td>237.096892</td>\n",
       "      <td>20.265745</td>\n",
       "      <td>0</td>\n",
       "      <td>0</td>\n",
       "      <td>2</td>\n",
       "      <td>10.0</td>\n",
       "      <td>10.0</td>\n",
       "      <td>10.0</td>\n",
       "    </tr>\n",
       "    <tr>\n",
       "      <th>4</th>\n",
       "      <td>19</td>\n",
       "      <td>1</td>\n",
       "      <td>0</td>\n",
       "      <td>21.444490</td>\n",
       "      <td>806.531455</td>\n",
       "      <td>6.384368</td>\n",
       "      <td>13.312915</td>\n",
       "      <td>512.747307</td>\n",
       "      <td>92.354829</td>\n",
       "      <td>182.935334</td>\n",
       "      <td>126.088234</td>\n",
       "      <td>243.880364</td>\n",
       "      <td>20.397336</td>\n",
       "      <td>0</td>\n",
       "      <td>0</td>\n",
       "      <td>1</td>\n",
       "      <td>10.0</td>\n",
       "      <td>10.0</td>\n",
       "      <td>10.0</td>\n",
       "    </tr>\n",
       "  </tbody>\n",
       "</table>\n",
       "</div>"
      ],
      "text/plain": [
       "   Name  Fertility  Photoperiod  Temperature    Rainfall        pH  \\\n",
       "0    19          1            0    20.887923  747.860765  6.571548   \n",
       "1    19          1            0    18.062721  711.104329  6.251806   \n",
       "2    19          1            2    16.776782  774.038247  6.346916   \n",
       "3    19          1            2    14.281000  665.633506  6.259598   \n",
       "4    19          1            0    21.444490  806.531455  6.384368   \n",
       "\n",
       "   Light_Hours  Light_Intensity         Rh    Nitrogen  Phosphorus  \\\n",
       "0    13.091483       533.762876  91.197196  170.800381  118.670058   \n",
       "1    13.063016       505.789101  91.939623  179.290364  121.020244   \n",
       "2    12.945927       512.985617  91.387286  181.440732  116.936806   \n",
       "3    13.318922       484.860067  91.254598  176.165282  122.233153   \n",
       "4    13.312915       512.747307  92.354829  182.935334  126.088234   \n",
       "\n",
       "    Potassium      Yield  Category_pH  Soil_Type  Season  N_Ratio  P_Ratio  \\\n",
       "0  243.331211  20.369555            0          0       2     10.0     10.0   \n",
       "1  246.910378  20.402751            0          0       1     10.0     10.0   \n",
       "2  242.699601  19.158847            0          0       2     10.0     10.0   \n",
       "3  237.096892  20.265745            0          0       2     10.0     10.0   \n",
       "4  243.880364  20.397336            0          0       1     10.0     10.0   \n",
       "\n",
       "   K_Ratio  \n",
       "0     10.0  \n",
       "1     10.0  \n",
       "2     10.0  \n",
       "3     10.0  \n",
       "4     10.0  "
      ]
     },
     "execution_count": 11,
     "metadata": {},
     "output_type": "execute_result"
    }
   ],
   "source": [
    "label_encoder = LabelEncoder()\n",
    "for col in categorical_cols:\n",
    "    data[col] = label_encoder.fit_transform(data[col])\n",
    "\n",
    "data.head()"
   ]
  },
  {
   "cell_type": "code",
   "execution_count": 12,
   "metadata": {},
   "outputs": [],
   "source": [
    "y = data[\"Category_pH\"]\n",
    "X = data.drop(columns=[\"Category_pH\", \"pH\"])\n",
    "X_train, X_test, y_train, y_test = train_test_split(X, y, test_size=0.2, random_state=42, stratify=y)"
   ]
  },
  {
   "cell_type": "code",
   "execution_count": 13,
   "metadata": {},
   "outputs": [
    {
     "data": {
      "image/png": "[encoded data removed]",
      "text/plain": [
       "<Figure size 1100x400 with 1 Axes>"
      ]
     },
     "metadata": {},
     "output_type": "display_data"
    }
   ],
   "source": [
    "rfc = RandomForestClassifier()\n",
    "\n",
    "# fit random forest classifier on the training set\n",
    "rfc.fit(X_train, y_train)\n",
    "# extract important features\n",
    "score = np.round(rfc.feature_importances_, 3)\n",
    "importances = pd.DataFrame({\"feature\": X_train.columns, \"importance\": score})\n",
    "importances = importances.sort_values(\"importance\", ascending=False).set_index(\"feature\")\n",
    "# plot importances\n",
    "plt.rcParams[\"figure.figsize\"] = (11, 4)\n",
    "importances.plot.bar()\n",
    "plt.title(\"Feature Importances\")\n",
    "plt.ylabel(\"Importance Score\")\n",
    "plt.xlabel(\"Features\")\n",
    "plt.tight_layout()\n",
    "plt.show()"
   ]
  },
  {
   "cell_type": "code",
   "execution_count": 14,
   "metadata": {},
   "outputs": [
    {
     "name": "stdout",
     "output_type": "stream",
     "text": [
      "Important Features: Index(['Nitrogen', 'Potassium', 'Light_Intensity', 'Phosphorus', 'Rh', 'Yield',\n",
      "       'Light_Hours', 'Rainfall', 'Temperature'],\n",
      "      dtype='object', name='feature')\n"
     ]
    }
   ],
   "source": [
    "# Drop the features with importance less than 0.05\n",
    "threshold = 0.05\n",
    "important_features = importances[importances[\"importance\"] >= threshold].index\n",
    "print(\"Important Features:\", important_features)\n",
    "# Select only the important features for training and testing\n",
    "X_train_important = X_train[important_features]\n",
    "X_test_important = X_test[important_features]"
   ]
  },
  {
   "cell_type": "code",
   "execution_count": 15,
   "metadata": {},
   "outputs": [],
   "source": [
    "# Standardize the features\n",
    "scaler = StandardScaler()\n",
    "X_train_important = scaler.fit_transform(X_train_important)\n",
    "X_test_important = scaler.transform(X_test_important)\n",
    "# Handle class imbalance\n",
    "# ros = RandomOverSampler(random_state=42)\n",
    "# X_train_important, y_train = ros.fit_resample(X_train_important, y_train)"
   ]
  },
  {
   "cell_type": "code",
   "execution_count": 16,
   "metadata": {},
   "outputs": [
    {
     "name": "stdout",
     "output_type": "stream",
     "text": [
      "\n",
      "Classifier Performance:\n",
      "                     accuracy  precision    recall        f1   roc_auc\n",
      "XGBoost              0.648377   0.647246  0.648377  0.647525  0.832758\n",
      "Gradient Boosting    0.648701   0.639506  0.648701  0.643143  0.840722\n",
      "Random Forest        0.641558   0.638874  0.641558  0.640138  0.835235\n",
      "SVM                  0.642532   0.634454  0.642532  0.636608  0.827889\n",
      "KNN                  0.624026   0.622522  0.624026  0.623214  0.799434\n",
      "Logistic Regression  0.634416   0.600915  0.634416  0.608276  0.811221\n"
     ]
    },
    {
     "data": {
      "image/png": "[encoded data removed]",
      "text/plain": [
       "<Figure size 1000x600 with 1 Axes>"
      ]
     },
     "metadata": {},
     "output_type": "display_data"
    }
   ],
   "source": [
    "# Define the classifiers\n",
    "classifiers = {\n",
    "    \"Logistic Regression\": LogisticRegression(max_iter=1000),\n",
    "    \"Random Forest\": RandomForestClassifier(),\n",
    "    \"Gradient Boosting\": GradientBoostingClassifier(),\n",
    "    \"XGBoost\": XGBClassifier(eval_metric=\"logloss\"),\n",
    "    \"SVM\": SVC(probability=True),\n",
    "    \"KNN\": KNeighborsClassifier(),\n",
    "}\n",
    "\n",
    "# Train and evaluate each classifier\n",
    "results = {}\n",
    "for name, clf in classifiers.items():\n",
    "    clf.fit(X_train_important, y_train)\n",
    "    y_pred = clf.predict(X_test_important)\n",
    "    results[name] = {\n",
    "        \"accuracy\": accuracy_score(y_test, y_pred),\n",
    "        \"precision\": precision_score(y_test, y_pred, average=\"weighted\"),\n",
    "        \"recall\": recall_score(y_test, y_pred, average=\"weighted\"),\n",
    "        \"f1\": f1_score(y_test, y_pred, average=\"weighted\"),\n",
    "        \"roc_auc\": roc_auc_score(y_test, clf.predict_proba(X_test_important), multi_class=\"ovr\"),\n",
    "    }\n",
    "# Print the results\n",
    "results_df = pd.DataFrame(results).T\n",
    "results_df = results_df.sort_values(by=\"f1\", ascending=False)\n",
    "print(\"\\nClassifier Performance:\")\n",
    "print(results_df)\n",
    "# Plot the results\n",
    "plt.figure(figsize=(10, 6))\n",
    "results_df[[\"accuracy\", \"precision\", \"recall\", \"f1\"]].plot(kind=\"bar\", ax=plt.gca())\n",
    "plt.title(\"Classifier Performance\")\n",
    "plt.ylabel(\"Score\")\n",
    "plt.xticks(rotation=45)\n",
    "plt.legend(title=\"Metrics\")\n",
    "plt.tight_layout()"
   ]
  }
 ],
 "metadata": {
  "kernelspec": {
   "display_name": "Python 3",
   "language": "python",
   "name": "python3"
  },
  "language_info": {
   "codemirror_mode": {
    "name": "ipython",
    "version": 3
   },
   "file_extension": ".py",
   "mimetype": "text/x-python",
   "name": "python",
   "nbconvert_exporter": "python",
   "pygments_lexer": "ipython3",
   "version": "3.12.7"
  }
 },
 "nbformat": 4,
 "nbformat_minor": 2
}
