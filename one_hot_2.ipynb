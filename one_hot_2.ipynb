{
 "cells": [
  {
   "cell_type": "code",
   "execution_count": 48,
   "metadata": {},
   "outputs": [],
   "source": [
    "import numpy as np\n",
    "import pandas as pd\n",
    "import seaborn as sns\n",
    "import matplotlib.pyplot as plt\n",
    "from sklearn.model_selection import train_test_split\n",
    "from sklearn.ensemble import RandomForestRegressor\n",
    "from sklearn.preprocessing import LabelEncoder, OneHotEncoder, StandardScaler\n",
    "from sklearn.metrics import mean_squared_error, r2_score"
   ]
  },
  {
   "cell_type": "code",
   "execution_count": 49,
   "metadata": {},
   "outputs": [
    {
     "data": {
      "application/vnd.microsoft.datawrangler.viewer.v0+json": {
       "columns": [
        {
         "name": "index",
         "rawType": "int64",
         "type": "integer"
        },
        {
         "name": "Name",
         "rawType": "object",
         "type": "string"
        },
        {
         "name": "Fertility",
         "rawType": "object",
         "type": "string"
        },
        {
         "name": "Photoperiod",
         "rawType": "object",
         "type": "string"
        },
        {
         "name": "Temperature",
         "rawType": "float64",
         "type": "float"
        },
        {
         "name": "Rainfall",
         "rawType": "float64",
         "type": "float"
        },
        {
         "name": "pH",
         "rawType": "float64",
         "type": "float"
        },
        {
         "name": "Light_Hours",
         "rawType": "float64",
         "type": "float"
        },
        {
         "name": "Light_Intensity",
         "rawType": "float64",
         "type": "float"
        },
        {
         "name": "Rh",
         "rawType": "float64",
         "type": "float"
        },
        {
         "name": "Nitrogen",
         "rawType": "float64",
         "type": "float"
        },
        {
         "name": "Phosphorus",
         "rawType": "float64",
         "type": "float"
        },
        {
         "name": "Potassium",
         "rawType": "float64",
         "type": "float"
        },
        {
         "name": "Yield",
         "rawType": "float64",
         "type": "float"
        },
        {
         "name": "Category_pH",
         "rawType": "object",
         "type": "string"
        },
        {
         "name": "Soil_Type",
         "rawType": "object",
         "type": "string"
        },
        {
         "name": "Season",
         "rawType": "object",
         "type": "string"
        },
        {
         "name": "N_Ratio",
         "rawType": "float64",
         "type": "float"
        },
        {
         "name": "P_Ratio",
         "rawType": "float64",
         "type": "float"
        },
        {
         "name": "K_Ratio",
         "rawType": "float64",
         "type": "float"
        }
       ],
       "conversionMethod": "pd.DataFrame",
       "ref": "2349daea-580e-4696-a3bb-a2c661989d50",
       "rows": [
        [
         "0",
         "Strawberry",
         "Moderate",
         "Day Neutral",
         "20.8879227807292",
         "747.86076492044",
         "6.57154752468899",
         "13.0914833109563",
         "533.762875715672",
         "91.1971962422373",
         "170.800381404677",
         "118.670057980644",
         "243.331210634148",
         "20.3695546169975",
         "low_acidic",
         "Loam",
         "Summer",
         "10.0",
         "10.0",
         "10.0"
        ],
        [
         "1",
         "Strawberry",
         "Moderate",
         "Day Neutral",
         "18.0627208763042",
         "711.104328780634",
         "6.25180620369805",
         "13.063015951482",
         "505.789101494269",
         "91.9396233984674",
         "179.290363887292",
         "121.020244350895",
         "246.910377557939",
         "20.4027509271319",
         "low_acidic",
         "Loam",
         "Spring",
         "10.0",
         "10.0",
         "10.0"
        ],
        [
         "2",
         "Strawberry",
         "Moderate",
         "Short Day Period",
         "16.7767822552963",
         "774.038246785553",
         "6.3469156727565",
         "12.9459268199875",
         "512.985616582096",
         "91.3872855759477",
         "181.44073227001",
         "116.936805538119",
         "242.699600700321",
         "19.158846788402",
         "low_acidic",
         "Loam",
         "Summer",
         "10.0",
         "10.0",
         "10.0"
        ],
        [
         "3",
         "Strawberry",
         "Moderate",
         "Short Day Period",
         "14.2809997525734",
         "665.633505666814",
         "6.25959848479199",
         "13.3189220696776",
         "484.860066810283",
         "91.2545975077002",
         "176.165281844706",
         "122.233153458625",
         "237.096892442197",
         "20.265745094281",
         "low_acidic",
         "Loam",
         "Summer",
         "10.0",
         "10.0",
         "10.0"
        ],
        [
         "4",
         "Strawberry",
         "Moderate",
         "Day Neutral",
         "21.4444904512977",
         "806.531454859021",
         "6.3843678378872",
         "13.3129150481162",
         "512.747307023423",
         "92.3548292065441",
         "182.935333974271",
         "126.088233928844",
         "243.880363647392",
         "20.3973359855375",
         "low_acidic",
         "Loam",
         "Spring",
         "10.0",
         "10.0",
         "10.0"
        ]
       ],
       "shape": {
        "columns": 19,
        "rows": 5
       }
      },
      "text/html": [
       "<div>\n",
       "<style scoped>\n",
       "    .dataframe tbody tr th:only-of-type {\n",
       "        vertical-align: middle;\n",
       "    }\n",
       "\n",
       "    .dataframe tbody tr th {\n",
       "        vertical-align: top;\n",
       "    }\n",
       "\n",
       "    .dataframe thead th {\n",
       "        text-align: right;\n",
       "    }\n",
       "</style>\n",
       "<table border=\"1\" class=\"dataframe\">\n",
       "  <thead>\n",
       "    <tr style=\"text-align: right;\">\n",
       "      <th></th>\n",
       "      <th>Name</th>\n",
       "      <th>Fertility</th>\n",
       "      <th>Photoperiod</th>\n",
       "      <th>Temperature</th>\n",
       "      <th>Rainfall</th>\n",
       "      <th>pH</th>\n",
       "      <th>Light_Hours</th>\n",
       "      <th>Light_Intensity</th>\n",
       "      <th>Rh</th>\n",
       "      <th>Nitrogen</th>\n",
       "      <th>Phosphorus</th>\n",
       "      <th>Potassium</th>\n",
       "      <th>Yield</th>\n",
       "      <th>Category_pH</th>\n",
       "      <th>Soil_Type</th>\n",
       "      <th>Season</th>\n",
       "      <th>N_Ratio</th>\n",
       "      <th>P_Ratio</th>\n",
       "      <th>K_Ratio</th>\n",
       "    </tr>\n",
       "  </thead>\n",
       "  <tbody>\n",
       "    <tr>\n",
       "      <th>0</th>\n",
       "      <td>Strawberry</td>\n",
       "      <td>Moderate</td>\n",
       "      <td>Day Neutral</td>\n",
       "      <td>20.887923</td>\n",
       "      <td>747.860765</td>\n",
       "      <td>6.571548</td>\n",
       "      <td>13.091483</td>\n",
       "      <td>533.762876</td>\n",
       "      <td>91.197196</td>\n",
       "      <td>170.800381</td>\n",
       "      <td>118.670058</td>\n",
       "      <td>243.331211</td>\n",
       "      <td>20.369555</td>\n",
       "      <td>low_acidic</td>\n",
       "      <td>Loam</td>\n",
       "      <td>Summer</td>\n",
       "      <td>10.0</td>\n",
       "      <td>10.0</td>\n",
       "      <td>10.0</td>\n",
       "    </tr>\n",
       "    <tr>\n",
       "      <th>1</th>\n",
       "      <td>Strawberry</td>\n",
       "      <td>Moderate</td>\n",
       "      <td>Day Neutral</td>\n",
       "      <td>18.062721</td>\n",
       "      <td>711.104329</td>\n",
       "      <td>6.251806</td>\n",
       "      <td>13.063016</td>\n",
       "      <td>505.789101</td>\n",
       "      <td>91.939623</td>\n",
       "      <td>179.290364</td>\n",
       "      <td>121.020244</td>\n",
       "      <td>246.910378</td>\n",
       "      <td>20.402751</td>\n",
       "      <td>low_acidic</td>\n",
       "      <td>Loam</td>\n",
       "      <td>Spring</td>\n",
       "      <td>10.0</td>\n",
       "      <td>10.0</td>\n",
       "      <td>10.0</td>\n",
       "    </tr>\n",
       "    <tr>\n",
       "      <th>2</th>\n",
       "      <td>Strawberry</td>\n",
       "      <td>Moderate</td>\n",
       "      <td>Short Day Period</td>\n",
       "      <td>16.776782</td>\n",
       "      <td>774.038247</td>\n",
       "      <td>6.346916</td>\n",
       "      <td>12.945927</td>\n",
       "      <td>512.985617</td>\n",
       "      <td>91.387286</td>\n",
       "      <td>181.440732</td>\n",
       "      <td>116.936806</td>\n",
       "      <td>242.699601</td>\n",
       "      <td>19.158847</td>\n",
       "      <td>low_acidic</td>\n",
       "      <td>Loam</td>\n",
       "      <td>Summer</td>\n",
       "      <td>10.0</td>\n",
       "      <td>10.0</td>\n",
       "      <td>10.0</td>\n",
       "    </tr>\n",
       "    <tr>\n",
       "      <th>3</th>\n",
       "      <td>Strawberry</td>\n",
       "      <td>Moderate</td>\n",
       "      <td>Short Day Period</td>\n",
       "      <td>14.281000</td>\n",
       "      <td>665.633506</td>\n",
       "      <td>6.259598</td>\n",
       "      <td>13.318922</td>\n",
       "      <td>484.860067</td>\n",
       "      <td>91.254598</td>\n",
       "      <td>176.165282</td>\n",
       "      <td>122.233153</td>\n",
       "      <td>237.096892</td>\n",
       "      <td>20.265745</td>\n",
       "      <td>low_acidic</td>\n",
       "      <td>Loam</td>\n",
       "      <td>Summer</td>\n",
       "      <td>10.0</td>\n",
       "      <td>10.0</td>\n",
       "      <td>10.0</td>\n",
       "    </tr>\n",
       "    <tr>\n",
       "      <th>4</th>\n",
       "      <td>Strawberry</td>\n",
       "      <td>Moderate</td>\n",
       "      <td>Day Neutral</td>\n",
       "      <td>21.444490</td>\n",
       "      <td>806.531455</td>\n",
       "      <td>6.384368</td>\n",
       "      <td>13.312915</td>\n",
       "      <td>512.747307</td>\n",
       "      <td>92.354829</td>\n",
       "      <td>182.935334</td>\n",
       "      <td>126.088234</td>\n",
       "      <td>243.880364</td>\n",
       "      <td>20.397336</td>\n",
       "      <td>low_acidic</td>\n",
       "      <td>Loam</td>\n",
       "      <td>Spring</td>\n",
       "      <td>10.0</td>\n",
       "      <td>10.0</td>\n",
       "      <td>10.0</td>\n",
       "    </tr>\n",
       "  </tbody>\n",
       "</table>\n",
       "</div>"
      ],
      "text/plain": [
       "         Name Fertility       Photoperiod  Temperature    Rainfall        pH  \\\n",
       "0  Strawberry  Moderate       Day Neutral    20.887923  747.860765  6.571548   \n",
       "1  Strawberry  Moderate       Day Neutral    18.062721  711.104329  6.251806   \n",
       "2  Strawberry  Moderate  Short Day Period    16.776782  774.038247  6.346916   \n",
       "3  Strawberry  Moderate  Short Day Period    14.281000  665.633506  6.259598   \n",
       "4  Strawberry  Moderate       Day Neutral    21.444490  806.531455  6.384368   \n",
       "\n",
       "   Light_Hours  Light_Intensity         Rh    Nitrogen  Phosphorus  \\\n",
       "0    13.091483       533.762876  91.197196  170.800381  118.670058   \n",
       "1    13.063016       505.789101  91.939623  179.290364  121.020244   \n",
       "2    12.945927       512.985617  91.387286  181.440732  116.936806   \n",
       "3    13.318922       484.860067  91.254598  176.165282  122.233153   \n",
       "4    13.312915       512.747307  92.354829  182.935334  126.088234   \n",
       "\n",
       "    Potassium      Yield Category_pH Soil_Type  Season  N_Ratio  P_Ratio  \\\n",
       "0  243.331211  20.369555  low_acidic      Loam  Summer     10.0     10.0   \n",
       "1  246.910378  20.402751  low_acidic      Loam  Spring     10.0     10.0   \n",
       "2  242.699601  19.158847  low_acidic      Loam  Summer     10.0     10.0   \n",
       "3  237.096892  20.265745  low_acidic      Loam  Summer     10.0     10.0   \n",
       "4  243.880364  20.397336  low_acidic      Loam  Spring     10.0     10.0   \n",
       "\n",
       "   K_Ratio  \n",
       "0     10.0  \n",
       "1     10.0  \n",
       "2     10.0  \n",
       "3     10.0  \n",
       "4     10.0  "
      ]
     },
     "execution_count": 49,
     "metadata": {},
     "output_type": "execute_result"
    }
   ],
   "source": [
    "df = pd.read_csv(\"./Soil Nutrients.csv\")\n",
    "df.head()"
   ]
  },
  {
   "cell_type": "code",
   "execution_count": null,
   "metadata": {},
   "outputs": [],
   "source": [
    "df = df.drop(columns=[\"Category_pH\"])"
   ]
  },
  {
   "cell_type": "code",
   "execution_count": 51,
   "metadata": {},
   "outputs": [
    {
     "name": "stdout",
     "output_type": "stream",
     "text": [
      "Categorical Columns: ['Name', 'Fertility', 'Photoperiod', 'Category_pH', 'Soil_Type', 'Season']\n",
      "Numerical Columns: ['Temperature', 'Rainfall', 'pH', 'Light_Hours', 'Light_Intensity', 'Rh', 'Nitrogen', 'Phosphorus', 'Potassium', 'Yield', 'N_Ratio', 'P_Ratio', 'K_Ratio']\n"
     ]
    }
   ],
   "source": [
    "categorical_cols = df.select_dtypes(include=[\"object\"]).columns\n",
    "numerical_cols = df.select_dtypes(include=[\"float64\"]).columns\n",
    "\n",
    "print(\"Categorical Columns:\", list(categorical_cols))\n",
    "print(\"Numerical Columns:\", list(numerical_cols))"
   ]
  },
  {
   "cell_type": "code",
   "execution_count": 52,
   "metadata": {},
   "outputs": [
    {
     "data": {
      "application/vnd.microsoft.datawrangler.viewer.v0+json": {
       "columns": [
        {
         "name": "index",
         "rawType": "int64",
         "type": "integer"
        },
        {
         "name": "Name",
         "rawType": "object",
         "type": "string"
        },
        {
         "name": "Fertility",
         "rawType": "object",
         "type": "string"
        },
        {
         "name": "Photoperiod",
         "rawType": "object",
         "type": "string"
        },
        {
         "name": "Temperature",
         "rawType": "float64",
         "type": "float"
        },
        {
         "name": "Rainfall",
         "rawType": "float64",
         "type": "float"
        },
        {
         "name": "pH",
         "rawType": "float64",
         "type": "float"
        },
        {
         "name": "Light_Hours",
         "rawType": "float64",
         "type": "float"
        },
        {
         "name": "Light_Intensity",
         "rawType": "float64",
         "type": "float"
        },
        {
         "name": "Rh",
         "rawType": "float64",
         "type": "float"
        },
        {
         "name": "Nitrogen",
         "rawType": "float64",
         "type": "float"
        },
        {
         "name": "Phosphorus",
         "rawType": "float64",
         "type": "float"
        },
        {
         "name": "Potassium",
         "rawType": "float64",
         "type": "float"
        },
        {
         "name": "Yield",
         "rawType": "float64",
         "type": "float"
        },
        {
         "name": "Category_pH",
         "rawType": "object",
         "type": "string"
        },
        {
         "name": "Soil_Type",
         "rawType": "object",
         "type": "string"
        },
        {
         "name": "Season",
         "rawType": "object",
         "type": "string"
        },
        {
         "name": "N_Ratio",
         "rawType": "float64",
         "type": "float"
        },
        {
         "name": "P_Ratio",
         "rawType": "float64",
         "type": "float"
        },
        {
         "name": "K_Ratio",
         "rawType": "float64",
         "type": "float"
        }
       ],
       "conversionMethod": "pd.DataFrame",
       "ref": "103ba1e0-27b0-409d-9db4-def8943abfcb",
       "rows": [
        [
         "0",
         "Strawberry",
         "Moderate",
         "Day Neutral",
         "0.01953590904997462",
         "-0.5895251505860917",
         "0.21860706566837587",
         "1.4032389834625751",
         "0.7123872908851246",
         "1.2670577382959192",
         "0.47897486883569546",
         "0.15128856759811354",
         "0.6044095099490944",
         "-0.15317223157854637",
         "low_acidic",
         "Loam",
         "Summer",
         "-0.18793960086721623",
         "-0.29584245117382724",
         "-0.3173906253853558"
        ],
        [
         "1",
         "Strawberry",
         "Moderate",
         "Day Neutral",
         "-0.6203709569902162",
         "-0.6973553111023133",
         "-0.4933589242999577",
         "1.3922408538159181",
         "0.5655479468074768",
         "1.3061233617424672",
         "0.6240465009462619",
         "0.18358202877835242",
         "0.6388292219457795",
         "-0.15103617187346322",
         "low_acidic",
         "Loam",
         "Spring",
         "-0.18793960086721623",
         "-0.29584245117382724",
         "-0.3173906253853558"
        ],
        [
         "2",
         "Strawberry",
         "Moderate",
         "Short Day Period",
         "-0.9116354332035325",
         "-0.5127298361358776",
         "-0.28157926728314975",
         "1.3470044331512743",
         "0.6033237416207807",
         "1.2770600102624288",
         "0.6607906816979487",
         "0.12747227746183062",
         "0.5983355177382077",
         "-0.23107679979173595",
         "low_acidic",
         "Loam",
         "Summer",
         "-0.18793960086721623",
         "-0.29584245117382724",
         "-0.3173906253853558"
        ],
        [
         "3",
         "Strawberry",
         "Moderate",
         "Short Day Period",
         "-1.476928963954001",
         "-0.8307503480019325",
         "-0.476007900960325",
         "1.491108072878824",
         "0.45568770053353946",
         "1.2700781238019068",
         "0.5706470088594732",
         "0.20024838072449774",
         "0.5444560511605996",
         "-0.1598519901896953",
         "low_acidic",
         "Loam",
         "Summer",
         "-0.18793960086721623",
         "-0.29584245117382724",
         "-0.3173906253853558"
        ],
        [
         "4",
         "Strawberry",
         "Moderate",
         "Day Neutral",
         "0.14559821746586296",
         "-0.41740645307114715",
         "-0.19818476656270193",
         "1.4887873096207427",
         "0.6020728121249602",
         "1.3279709916614844",
         "0.6863295222122104",
         "0.2532203037547632",
         "0.609690540133054",
         "-0.15138460332558404",
         "low_acidic",
         "Loam",
         "Spring",
         "-0.18793960086721623",
         "-0.29584245117382724",
         "-0.3173906253853558"
        ]
       ],
       "shape": {
        "columns": 19,
        "rows": 5
       }
      },
      "text/html": [
       "<div>\n",
       "<style scoped>\n",
       "    .dataframe tbody tr th:only-of-type {\n",
       "        vertical-align: middle;\n",
       "    }\n",
       "\n",
       "    .dataframe tbody tr th {\n",
       "        vertical-align: top;\n",
       "    }\n",
       "\n",
       "    .dataframe thead th {\n",
       "        text-align: right;\n",
       "    }\n",
       "</style>\n",
       "<table border=\"1\" class=\"dataframe\">\n",
       "  <thead>\n",
       "    <tr style=\"text-align: right;\">\n",
       "      <th></th>\n",
       "      <th>Name</th>\n",
       "      <th>Fertility</th>\n",
       "      <th>Photoperiod</th>\n",
       "      <th>Temperature</th>\n",
       "      <th>Rainfall</th>\n",
       "      <th>pH</th>\n",
       "      <th>Light_Hours</th>\n",
       "      <th>Light_Intensity</th>\n",
       "      <th>Rh</th>\n",
       "      <th>Nitrogen</th>\n",
       "      <th>Phosphorus</th>\n",
       "      <th>Potassium</th>\n",
       "      <th>Yield</th>\n",
       "      <th>Category_pH</th>\n",
       "      <th>Soil_Type</th>\n",
       "      <th>Season</th>\n",
       "      <th>N_Ratio</th>\n",
       "      <th>P_Ratio</th>\n",
       "      <th>K_Ratio</th>\n",
       "    </tr>\n",
       "  </thead>\n",
       "  <tbody>\n",
       "    <tr>\n",
       "      <th>0</th>\n",
       "      <td>Strawberry</td>\n",
       "      <td>Moderate</td>\n",
       "      <td>Day Neutral</td>\n",
       "      <td>0.019536</td>\n",
       "      <td>-0.589525</td>\n",
       "      <td>0.218607</td>\n",
       "      <td>1.403239</td>\n",
       "      <td>0.712387</td>\n",
       "      <td>1.267058</td>\n",
       "      <td>0.478975</td>\n",
       "      <td>0.151289</td>\n",
       "      <td>0.604410</td>\n",
       "      <td>-0.153172</td>\n",
       "      <td>low_acidic</td>\n",
       "      <td>Loam</td>\n",
       "      <td>Summer</td>\n",
       "      <td>-0.18794</td>\n",
       "      <td>-0.295842</td>\n",
       "      <td>-0.317391</td>\n",
       "    </tr>\n",
       "    <tr>\n",
       "      <th>1</th>\n",
       "      <td>Strawberry</td>\n",
       "      <td>Moderate</td>\n",
       "      <td>Day Neutral</td>\n",
       "      <td>-0.620371</td>\n",
       "      <td>-0.697355</td>\n",
       "      <td>-0.493359</td>\n",
       "      <td>1.392241</td>\n",
       "      <td>0.565548</td>\n",
       "      <td>1.306123</td>\n",
       "      <td>0.624047</td>\n",
       "      <td>0.183582</td>\n",
       "      <td>0.638829</td>\n",
       "      <td>-0.151036</td>\n",
       "      <td>low_acidic</td>\n",
       "      <td>Loam</td>\n",
       "      <td>Spring</td>\n",
       "      <td>-0.18794</td>\n",
       "      <td>-0.295842</td>\n",
       "      <td>-0.317391</td>\n",
       "    </tr>\n",
       "    <tr>\n",
       "      <th>2</th>\n",
       "      <td>Strawberry</td>\n",
       "      <td>Moderate</td>\n",
       "      <td>Short Day Period</td>\n",
       "      <td>-0.911635</td>\n",
       "      <td>-0.512730</td>\n",
       "      <td>-0.281579</td>\n",
       "      <td>1.347004</td>\n",
       "      <td>0.603324</td>\n",
       "      <td>1.277060</td>\n",
       "      <td>0.660791</td>\n",
       "      <td>0.127472</td>\n",
       "      <td>0.598336</td>\n",
       "      <td>-0.231077</td>\n",
       "      <td>low_acidic</td>\n",
       "      <td>Loam</td>\n",
       "      <td>Summer</td>\n",
       "      <td>-0.18794</td>\n",
       "      <td>-0.295842</td>\n",
       "      <td>-0.317391</td>\n",
       "    </tr>\n",
       "    <tr>\n",
       "      <th>3</th>\n",
       "      <td>Strawberry</td>\n",
       "      <td>Moderate</td>\n",
       "      <td>Short Day Period</td>\n",
       "      <td>-1.476929</td>\n",
       "      <td>-0.830750</td>\n",
       "      <td>-0.476008</td>\n",
       "      <td>1.491108</td>\n",
       "      <td>0.455688</td>\n",
       "      <td>1.270078</td>\n",
       "      <td>0.570647</td>\n",
       "      <td>0.200248</td>\n",
       "      <td>0.544456</td>\n",
       "      <td>-0.159852</td>\n",
       "      <td>low_acidic</td>\n",
       "      <td>Loam</td>\n",
       "      <td>Summer</td>\n",
       "      <td>-0.18794</td>\n",
       "      <td>-0.295842</td>\n",
       "      <td>-0.317391</td>\n",
       "    </tr>\n",
       "    <tr>\n",
       "      <th>4</th>\n",
       "      <td>Strawberry</td>\n",
       "      <td>Moderate</td>\n",
       "      <td>Day Neutral</td>\n",
       "      <td>0.145598</td>\n",
       "      <td>-0.417406</td>\n",
       "      <td>-0.198185</td>\n",
       "      <td>1.488787</td>\n",
       "      <td>0.602073</td>\n",
       "      <td>1.327971</td>\n",
       "      <td>0.686330</td>\n",
       "      <td>0.253220</td>\n",
       "      <td>0.609691</td>\n",
       "      <td>-0.151385</td>\n",
       "      <td>low_acidic</td>\n",
       "      <td>Loam</td>\n",
       "      <td>Spring</td>\n",
       "      <td>-0.18794</td>\n",
       "      <td>-0.295842</td>\n",
       "      <td>-0.317391</td>\n",
       "    </tr>\n",
       "  </tbody>\n",
       "</table>\n",
       "</div>"
      ],
      "text/plain": [
       "         Name Fertility       Photoperiod  Temperature  Rainfall        pH  \\\n",
       "0  Strawberry  Moderate       Day Neutral     0.019536 -0.589525  0.218607   \n",
       "1  Strawberry  Moderate       Day Neutral    -0.620371 -0.697355 -0.493359   \n",
       "2  Strawberry  Moderate  Short Day Period    -0.911635 -0.512730 -0.281579   \n",
       "3  Strawberry  Moderate  Short Day Period    -1.476929 -0.830750 -0.476008   \n",
       "4  Strawberry  Moderate       Day Neutral     0.145598 -0.417406 -0.198185   \n",
       "\n",
       "   Light_Hours  Light_Intensity        Rh  Nitrogen  Phosphorus  Potassium  \\\n",
       "0     1.403239         0.712387  1.267058  0.478975    0.151289   0.604410   \n",
       "1     1.392241         0.565548  1.306123  0.624047    0.183582   0.638829   \n",
       "2     1.347004         0.603324  1.277060  0.660791    0.127472   0.598336   \n",
       "3     1.491108         0.455688  1.270078  0.570647    0.200248   0.544456   \n",
       "4     1.488787         0.602073  1.327971  0.686330    0.253220   0.609691   \n",
       "\n",
       "      Yield Category_pH Soil_Type  Season  N_Ratio   P_Ratio   K_Ratio  \n",
       "0 -0.153172  low_acidic      Loam  Summer -0.18794 -0.295842 -0.317391  \n",
       "1 -0.151036  low_acidic      Loam  Spring -0.18794 -0.295842 -0.317391  \n",
       "2 -0.231077  low_acidic      Loam  Summer -0.18794 -0.295842 -0.317391  \n",
       "3 -0.159852  low_acidic      Loam  Summer -0.18794 -0.295842 -0.317391  \n",
       "4 -0.151385  low_acidic      Loam  Spring -0.18794 -0.295842 -0.317391  "
      ]
     },
     "execution_count": 52,
     "metadata": {},
     "output_type": "execute_result"
    }
   ],
   "source": [
    "scaler = StandardScaler()\n",
    "df[numerical_cols] = scaler.fit_transform(df[numerical_cols])\n",
    "df.head()"
   ]
  },
  {
   "cell_type": "code",
   "execution_count": 53,
   "metadata": {},
   "outputs": [
    {
     "data": {
      "application/vnd.microsoft.datawrangler.viewer.v0+json": {
       "columns": [
        {
         "name": "index",
         "rawType": "int64",
         "type": "integer"
        },
        {
         "name": "Temperature",
         "rawType": "float64",
         "type": "float"
        },
        {
         "name": "Rainfall",
         "rawType": "float64",
         "type": "float"
        },
        {
         "name": "pH",
         "rawType": "float64",
         "type": "float"
        },
        {
         "name": "Light_Hours",
         "rawType": "float64",
         "type": "float"
        },
        {
         "name": "Light_Intensity",
         "rawType": "float64",
         "type": "float"
        },
        {
         "name": "Rh",
         "rawType": "float64",
         "type": "float"
        },
        {
         "name": "Nitrogen",
         "rawType": "float64",
         "type": "float"
        },
        {
         "name": "Phosphorus",
         "rawType": "float64",
         "type": "float"
        },
        {
         "name": "Potassium",
         "rawType": "float64",
         "type": "float"
        },
        {
         "name": "Yield",
         "rawType": "float64",
         "type": "float"
        },
        {
         "name": "N_Ratio",
         "rawType": "float64",
         "type": "float"
        },
        {
         "name": "P_Ratio",
         "rawType": "float64",
         "type": "float"
        },
        {
         "name": "K_Ratio",
         "rawType": "float64",
         "type": "float"
        },
        {
         "name": "Name_Arugula",
         "rawType": "float64",
         "type": "float"
        },
        {
         "name": "Name_Asparagus",
         "rawType": "float64",
         "type": "float"
        },
        {
         "name": "Name_Beet",
         "rawType": "float64",
         "type": "float"
        },
        {
         "name": "Name_Broccoli",
         "rawType": "float64",
         "type": "float"
        },
        {
         "name": "Name_Cabbage",
         "rawType": "float64",
         "type": "float"
        },
        {
         "name": "Name_Cauliflowers",
         "rawType": "float64",
         "type": "float"
        },
        {
         "name": "Name_Chard",
         "rawType": "float64",
         "type": "float"
        },
        {
         "name": "Name_Chilli Peppers",
         "rawType": "float64",
         "type": "float"
        },
        {
         "name": "Name_Cress",
         "rawType": "float64",
         "type": "float"
        },
        {
         "name": "Name_Cucumbers",
         "rawType": "float64",
         "type": "float"
        },
        {
         "name": "Name_Eggplants",
         "rawType": "float64",
         "type": "float"
        },
        {
         "name": "Name_Endive",
         "rawType": "float64",
         "type": "float"
        },
        {
         "name": "Name_Grapes",
         "rawType": "float64",
         "type": "float"
        },
        {
         "name": "Name_Green Peas",
         "rawType": "float64",
         "type": "float"
        },
        {
         "name": "Name_Kale",
         "rawType": "float64",
         "type": "float"
        },
        {
         "name": "Name_Lettuce",
         "rawType": "float64",
         "type": "float"
        },
        {
         "name": "Name_Potatoes",
         "rawType": "float64",
         "type": "float"
        },
        {
         "name": "Name_Radicchio",
         "rawType": "float64",
         "type": "float"
        },
        {
         "name": "Name_Spinach",
         "rawType": "float64",
         "type": "float"
        },
        {
         "name": "Name_Strawberry",
         "rawType": "float64",
         "type": "float"
        },
        {
         "name": "Name_Tomatoes",
         "rawType": "float64",
         "type": "float"
        },
        {
         "name": "Name_Watermelon",
         "rawType": "float64",
         "type": "float"
        },
        {
         "name": "Fertility_High",
         "rawType": "float64",
         "type": "float"
        },
        {
         "name": "Fertility_Moderate",
         "rawType": "float64",
         "type": "float"
        },
        {
         "name": "Photoperiod_Day Neutral",
         "rawType": "float64",
         "type": "float"
        },
        {
         "name": "Photoperiod_Long Day Period",
         "rawType": "float64",
         "type": "float"
        },
        {
         "name": "Photoperiod_Short Day Period",
         "rawType": "float64",
         "type": "float"
        },
        {
         "name": "Category_pH_low_acidic",
         "rawType": "float64",
         "type": "float"
        },
        {
         "name": "Category_pH_low_alkaline",
         "rawType": "float64",
         "type": "float"
        },
        {
         "name": "Category_pH_neutral",
         "rawType": "float64",
         "type": "float"
        },
        {
         "name": "Soil_Type_Loam",
         "rawType": "float64",
         "type": "float"
        },
        {
         "name": "Soil_Type_Sandy",
         "rawType": "float64",
         "type": "float"
        },
        {
         "name": "Soil_Type_Sandy Loam",
         "rawType": "float64",
         "type": "float"
        },
        {
         "name": "Season_Fall",
         "rawType": "float64",
         "type": "float"
        },
        {
         "name": "Season_Spring",
         "rawType": "float64",
         "type": "float"
        },
        {
         "name": "Season_Summer",
         "rawType": "float64",
         "type": "float"
        },
        {
         "name": "Season_Winter",
         "rawType": "float64",
         "type": "float"
        }
       ],
       "conversionMethod": "pd.DataFrame",
       "ref": "45161f0b-d12c-42b6-8fa7-f44acc2a6003",
       "rows": [
        [
         "0",
         "0.01953590904997462",
         "-0.5895251505860917",
         "0.21860706566837587",
         "1.4032389834625751",
         "0.7123872908851246",
         "1.2670577382959192",
         "0.47897486883569546",
         "0.15128856759811354",
         "0.6044095099490944",
         "-0.15317223157854637",
         "-0.18793960086721623",
         "-0.29584245117382724",
         "-0.3173906253853558",
         "0.0",
         "0.0",
         "0.0",
         "0.0",
         "0.0",
         "0.0",
         "0.0",
         "0.0",
         "0.0",
         "0.0",
         "0.0",
         "0.0",
         "0.0",
         "0.0",
         "0.0",
         "0.0",
         "0.0",
         "0.0",
         "0.0",
         "1.0",
         "0.0",
         "0.0",
         "0.0",
         "1.0",
         "1.0",
         "0.0",
         "0.0",
         "1.0",
         "0.0",
         "0.0",
         "1.0",
         "0.0",
         "0.0",
         "0.0",
         "0.0",
         "1.0",
         "0.0"
        ],
        [
         "1",
         "-0.6203709569902162",
         "-0.6973553111023133",
         "-0.4933589242999577",
         "1.3922408538159181",
         "0.5655479468074768",
         "1.3061233617424672",
         "0.6240465009462619",
         "0.18358202877835242",
         "0.6388292219457795",
         "-0.15103617187346322",
         "-0.18793960086721623",
         "-0.29584245117382724",
         "-0.3173906253853558",
         "0.0",
         "0.0",
         "0.0",
         "0.0",
         "0.0",
         "0.0",
         "0.0",
         "0.0",
         "0.0",
         "0.0",
         "0.0",
         "0.0",
         "0.0",
         "0.0",
         "0.0",
         "0.0",
         "0.0",
         "0.0",
         "0.0",
         "1.0",
         "0.0",
         "0.0",
         "0.0",
         "1.0",
         "1.0",
         "0.0",
         "0.0",
         "1.0",
         "0.0",
         "0.0",
         "1.0",
         "0.0",
         "0.0",
         "0.0",
         "1.0",
         "0.0",
         "0.0"
        ],
        [
         "2",
         "-0.9116354332035325",
         "-0.5127298361358776",
         "-0.28157926728314975",
         "1.3470044331512743",
         "0.6033237416207807",
         "1.2770600102624288",
         "0.6607906816979487",
         "0.12747227746183062",
         "0.5983355177382077",
         "-0.23107679979173595",
         "-0.18793960086721623",
         "-0.29584245117382724",
         "-0.3173906253853558",
         "0.0",
         "0.0",
         "0.0",
         "0.0",
         "0.0",
         "0.0",
         "0.0",
         "0.0",
         "0.0",
         "0.0",
         "0.0",
         "0.0",
         "0.0",
         "0.0",
         "0.0",
         "0.0",
         "0.0",
         "0.0",
         "0.0",
         "1.0",
         "0.0",
         "0.0",
         "0.0",
         "1.0",
         "0.0",
         "0.0",
         "1.0",
         "1.0",
         "0.0",
         "0.0",
         "1.0",
         "0.0",
         "0.0",
         "0.0",
         "0.0",
         "1.0",
         "0.0"
        ],
        [
         "3",
         "-1.476928963954001",
         "-0.8307503480019325",
         "-0.476007900960325",
         "1.491108072878824",
         "0.45568770053353946",
         "1.2700781238019068",
         "0.5706470088594732",
         "0.20024838072449774",
         "0.5444560511605996",
         "-0.1598519901896953",
         "-0.18793960086721623",
         "-0.29584245117382724",
         "-0.3173906253853558",
         "0.0",
         "0.0",
         "0.0",
         "0.0",
         "0.0",
         "0.0",
         "0.0",
         "0.0",
         "0.0",
         "0.0",
         "0.0",
         "0.0",
         "0.0",
         "0.0",
         "0.0",
         "0.0",
         "0.0",
         "0.0",
         "0.0",
         "1.0",
         "0.0",
         "0.0",
         "0.0",
         "1.0",
         "0.0",
         "0.0",
         "1.0",
         "1.0",
         "0.0",
         "0.0",
         "1.0",
         "0.0",
         "0.0",
         "0.0",
         "0.0",
         "1.0",
         "0.0"
        ],
        [
         "4",
         "0.14559821746586296",
         "-0.41740645307114715",
         "-0.19818476656270193",
         "1.4887873096207427",
         "0.6020728121249602",
         "1.3279709916614844",
         "0.6863295222122104",
         "0.2532203037547632",
         "0.609690540133054",
         "-0.15138460332558404",
         "-0.18793960086721623",
         "-0.29584245117382724",
         "-0.3173906253853558",
         "0.0",
         "0.0",
         "0.0",
         "0.0",
         "0.0",
         "0.0",
         "0.0",
         "0.0",
         "0.0",
         "0.0",
         "0.0",
         "0.0",
         "0.0",
         "0.0",
         "0.0",
         "0.0",
         "0.0",
         "0.0",
         "0.0",
         "1.0",
         "0.0",
         "0.0",
         "0.0",
         "1.0",
         "1.0",
         "0.0",
         "0.0",
         "1.0",
         "0.0",
         "0.0",
         "1.0",
         "0.0",
         "0.0",
         "0.0",
         "1.0",
         "0.0",
         "0.0"
        ]
       ],
       "shape": {
        "columns": 50,
        "rows": 5
       }
      },
      "text/html": [
       "<div>\n",
       "<style scoped>\n",
       "    .dataframe tbody tr th:only-of-type {\n",
       "        vertical-align: middle;\n",
       "    }\n",
       "\n",
       "    .dataframe tbody tr th {\n",
       "        vertical-align: top;\n",
       "    }\n",
       "\n",
       "    .dataframe thead th {\n",
       "        text-align: right;\n",
       "    }\n",
       "</style>\n",
       "<table border=\"1\" class=\"dataframe\">\n",
       "  <thead>\n",
       "    <tr style=\"text-align: right;\">\n",
       "      <th></th>\n",
       "      <th>Temperature</th>\n",
       "      <th>Rainfall</th>\n",
       "      <th>pH</th>\n",
       "      <th>Light_Hours</th>\n",
       "      <th>Light_Intensity</th>\n",
       "      <th>Rh</th>\n",
       "      <th>Nitrogen</th>\n",
       "      <th>Phosphorus</th>\n",
       "      <th>Potassium</th>\n",
       "      <th>Yield</th>\n",
       "      <th>...</th>\n",
       "      <th>Category_pH_low_acidic</th>\n",
       "      <th>Category_pH_low_alkaline</th>\n",
       "      <th>Category_pH_neutral</th>\n",
       "      <th>Soil_Type_Loam</th>\n",
       "      <th>Soil_Type_Sandy</th>\n",
       "      <th>Soil_Type_Sandy Loam</th>\n",
       "      <th>Season_Fall</th>\n",
       "      <th>Season_Spring</th>\n",
       "      <th>Season_Summer</th>\n",
       "      <th>Season_Winter</th>\n",
       "    </tr>\n",
       "  </thead>\n",
       "  <tbody>\n",
       "    <tr>\n",
       "      <th>0</th>\n",
       "      <td>0.019536</td>\n",
       "      <td>-0.589525</td>\n",
       "      <td>0.218607</td>\n",
       "      <td>1.403239</td>\n",
       "      <td>0.712387</td>\n",
       "      <td>1.267058</td>\n",
       "      <td>0.478975</td>\n",
       "      <td>0.151289</td>\n",
       "      <td>0.604410</td>\n",
       "      <td>-0.153172</td>\n",
       "      <td>...</td>\n",
       "      <td>1.0</td>\n",
       "      <td>0.0</td>\n",
       "      <td>0.0</td>\n",
       "      <td>1.0</td>\n",
       "      <td>0.0</td>\n",
       "      <td>0.0</td>\n",
       "      <td>0.0</td>\n",
       "      <td>0.0</td>\n",
       "      <td>1.0</td>\n",
       "      <td>0.0</td>\n",
       "    </tr>\n",
       "    <tr>\n",
       "      <th>1</th>\n",
       "      <td>-0.620371</td>\n",
       "      <td>-0.697355</td>\n",
       "      <td>-0.493359</td>\n",
       "      <td>1.392241</td>\n",
       "      <td>0.565548</td>\n",
       "      <td>1.306123</td>\n",
       "      <td>0.624047</td>\n",
       "      <td>0.183582</td>\n",
       "      <td>0.638829</td>\n",
       "      <td>-0.151036</td>\n",
       "      <td>...</td>\n",
       "      <td>1.0</td>\n",
       "      <td>0.0</td>\n",
       "      <td>0.0</td>\n",
       "      <td>1.0</td>\n",
       "      <td>0.0</td>\n",
       "      <td>0.0</td>\n",
       "      <td>0.0</td>\n",
       "      <td>1.0</td>\n",
       "      <td>0.0</td>\n",
       "      <td>0.0</td>\n",
       "    </tr>\n",
       "    <tr>\n",
       "      <th>2</th>\n",
       "      <td>-0.911635</td>\n",
       "      <td>-0.512730</td>\n",
       "      <td>-0.281579</td>\n",
       "      <td>1.347004</td>\n",
       "      <td>0.603324</td>\n",
       "      <td>1.277060</td>\n",
       "      <td>0.660791</td>\n",
       "      <td>0.127472</td>\n",
       "      <td>0.598336</td>\n",
       "      <td>-0.231077</td>\n",
       "      <td>...</td>\n",
       "      <td>1.0</td>\n",
       "      <td>0.0</td>\n",
       "      <td>0.0</td>\n",
       "      <td>1.0</td>\n",
       "      <td>0.0</td>\n",
       "      <td>0.0</td>\n",
       "      <td>0.0</td>\n",
       "      <td>0.0</td>\n",
       "      <td>1.0</td>\n",
       "      <td>0.0</td>\n",
       "    </tr>\n",
       "    <tr>\n",
       "      <th>3</th>\n",
       "      <td>-1.476929</td>\n",
       "      <td>-0.830750</td>\n",
       "      <td>-0.476008</td>\n",
       "      <td>1.491108</td>\n",
       "      <td>0.455688</td>\n",
       "      <td>1.270078</td>\n",
       "      <td>0.570647</td>\n",
       "      <td>0.200248</td>\n",
       "      <td>0.544456</td>\n",
       "      <td>-0.159852</td>\n",
       "      <td>...</td>\n",
       "      <td>1.0</td>\n",
       "      <td>0.0</td>\n",
       "      <td>0.0</td>\n",
       "      <td>1.0</td>\n",
       "      <td>0.0</td>\n",
       "      <td>0.0</td>\n",
       "      <td>0.0</td>\n",
       "      <td>0.0</td>\n",
       "      <td>1.0</td>\n",
       "      <td>0.0</td>\n",
       "    </tr>\n",
       "    <tr>\n",
       "      <th>4</th>\n",
       "      <td>0.145598</td>\n",
       "      <td>-0.417406</td>\n",
       "      <td>-0.198185</td>\n",
       "      <td>1.488787</td>\n",
       "      <td>0.602073</td>\n",
       "      <td>1.327971</td>\n",
       "      <td>0.686330</td>\n",
       "      <td>0.253220</td>\n",
       "      <td>0.609691</td>\n",
       "      <td>-0.151385</td>\n",
       "      <td>...</td>\n",
       "      <td>1.0</td>\n",
       "      <td>0.0</td>\n",
       "      <td>0.0</td>\n",
       "      <td>1.0</td>\n",
       "      <td>0.0</td>\n",
       "      <td>0.0</td>\n",
       "      <td>0.0</td>\n",
       "      <td>1.0</td>\n",
       "      <td>0.0</td>\n",
       "      <td>0.0</td>\n",
       "    </tr>\n",
       "  </tbody>\n",
       "</table>\n",
       "<p>5 rows × 50 columns</p>\n",
       "</div>"
      ],
      "text/plain": [
       "   Temperature  Rainfall        pH  Light_Hours  Light_Intensity        Rh  \\\n",
       "0     0.019536 -0.589525  0.218607     1.403239         0.712387  1.267058   \n",
       "1    -0.620371 -0.697355 -0.493359     1.392241         0.565548  1.306123   \n",
       "2    -0.911635 -0.512730 -0.281579     1.347004         0.603324  1.277060   \n",
       "3    -1.476929 -0.830750 -0.476008     1.491108         0.455688  1.270078   \n",
       "4     0.145598 -0.417406 -0.198185     1.488787         0.602073  1.327971   \n",
       "\n",
       "   Nitrogen  Phosphorus  Potassium     Yield  ...  Category_pH_low_acidic  \\\n",
       "0  0.478975    0.151289   0.604410 -0.153172  ...                     1.0   \n",
       "1  0.624047    0.183582   0.638829 -0.151036  ...                     1.0   \n",
       "2  0.660791    0.127472   0.598336 -0.231077  ...                     1.0   \n",
       "3  0.570647    0.200248   0.544456 -0.159852  ...                     1.0   \n",
       "4  0.686330    0.253220   0.609691 -0.151385  ...                     1.0   \n",
       "\n",
       "   Category_pH_low_alkaline  Category_pH_neutral  Soil_Type_Loam  \\\n",
       "0                       0.0                  0.0             1.0   \n",
       "1                       0.0                  0.0             1.0   \n",
       "2                       0.0                  0.0             1.0   \n",
       "3                       0.0                  0.0             1.0   \n",
       "4                       0.0                  0.0             1.0   \n",
       "\n",
       "   Soil_Type_Sandy  Soil_Type_Sandy Loam  Season_Fall  Season_Spring  \\\n",
       "0              0.0                   0.0          0.0            0.0   \n",
       "1              0.0                   0.0          0.0            1.0   \n",
       "2              0.0                   0.0          0.0            0.0   \n",
       "3              0.0                   0.0          0.0            0.0   \n",
       "4              0.0                   0.0          0.0            1.0   \n",
       "\n",
       "   Season_Summer  Season_Winter  \n",
       "0            1.0            0.0  \n",
       "1            0.0            0.0  \n",
       "2            1.0            0.0  \n",
       "3            1.0            0.0  \n",
       "4            0.0            0.0  \n",
       "\n",
       "[5 rows x 50 columns]"
      ]
     },
     "execution_count": 53,
     "metadata": {},
     "output_type": "execute_result"
    }
   ],
   "source": [
    "encoder = OneHotEncoder(sparse_output=False)\n",
    "# Apply one-hot encoding to categorical columns\n",
    "encoded_data = encoder.fit_transform(df[categorical_cols])\n",
    "encoded_df = pd.DataFrame(encoded_data, columns=encoder.get_feature_names_out(categorical_cols))\n",
    "df = df.drop(columns=categorical_cols)\n",
    "df = pd.concat([df, encoded_df], axis=1)\n",
    "\n",
    "df.head()"
   ]
  },
  {
   "cell_type": "code",
   "execution_count": 54,
   "metadata": {},
   "outputs": [],
   "source": [
    "# Define features and target variable\n",
    "X = df.drop(\"pH\", axis=1)\n",
    "y = df[\"pH\"]"
   ]
  },
  {
   "cell_type": "code",
   "execution_count": 55,
   "metadata": {},
   "outputs": [],
   "source": [
    "# Split the data into training and testing sets\n",
    "X_train, X_test, y_train, y_test = train_test_split(X, y, test_size=0.3, random_state=42)"
   ]
  },
  {
   "cell_type": "code",
   "execution_count": 56,
   "metadata": {},
   "outputs": [
    {
     "data": {
      "text/plain": [
       "(0.22016808996354478, 0.7856666829052827)"
      ]
     },
     "execution_count": 56,
     "metadata": {},
     "output_type": "execute_result"
    }
   ],
   "source": [
    "# Initialize and train the Random Forest Regressor\n",
    "model = RandomForestRegressor(random_state=42, max_depth=20, n_estimators=100)\n",
    "model.fit(X_train, y_train)\n",
    "\n",
    "# Make predictions\n",
    "y_pred = model.predict(X_test)\n",
    "\n",
    "# Evaluate the model\n",
    "mse = mean_squared_error(y_test, y_pred)\n",
    "r2 = r2_score(y_test, y_pred)\n",
    "\n",
    "mse, r2"
   ]
  },
  {
   "cell_type": "code",
   "execution_count": 57,
   "metadata": {},
   "outputs": [
    {
     "data": {
      "text/plain": [
       "(0.3754561480308938, 0.6344939830091125)"
      ]
     },
     "execution_count": 57,
     "metadata": {},
     "output_type": "execute_result"
    }
   ],
   "source": [
    "from sklearn.tree import DecisionTreeRegressor\n",
    "\n",
    "regr = DecisionTreeRegressor(max_depth=20, random_state=42)\n",
    "regr.fit(X_train, y_train)\n",
    "# Make predictions\n",
    "y_pred = regr.predict(X_test)\n",
    "\n",
    "# Evaluate the model\n",
    "mse = mean_squared_error(y_test, y_pred)\n",
    "r2 = r2_score(y_test, y_pred)\n",
    "\n",
    "mse, r2"
   ]
  },
  {
   "cell_type": "code",
   "execution_count": 63,
   "metadata": {},
   "outputs": [
    {
     "data": {
      "text/plain": [
       "(0.20895042174204434, 0.7965870666919628)"
      ]
     },
     "execution_count": 63,
     "metadata": {},
     "output_type": "execute_result"
    }
   ],
   "source": [
    "from sklearn.svm import SVR\n",
    "\n",
    "svr = SVR(kernel=\"linear\")\n",
    "svr.fit(X_train, y_train)\n",
    "# Make predictions\n",
    "y_pred = svr.predict(X_test)\n",
    "# Evaluate the model\n",
    "mse = mean_squared_error(y_test, y_pred)\n",
    "r2 = r2_score(y_test, y_pred)\n",
    "mse, r2"
   ]
  },
  {
   "cell_type": "code",
   "execution_count": 61,
   "metadata": {},
   "outputs": [
    {
     "name": "stderr",
     "output_type": "stream",
     "text": [
      "/Users/rafi/.local/share/mise/installs/python/3.12.7/lib/python3.12/site-packages/keras/src/layers/core/dense.py:87: UserWarning: Do not pass an `input_shape`/`input_dim` argument to a layer. When using Sequential models, prefer using an `Input(shape)` object as the first layer in the model instead.\n",
      "  super().__init__(activity_regularizer=activity_regularizer, **kwargs)\n"
     ]
    },
    {
     "name": "stdout",
     "output_type": "stream",
     "text": [
      "Epoch 1/100\n",
      "\u001b[1m270/270\u001b[0m \u001b[32m━━━━━━━━━━━━━━━━━━━━\u001b[0m\u001b[37m\u001b[0m \u001b[1m3s\u001b[0m 9ms/step - loss: 0.4833 - val_loss: 0.2478\n",
      "Epoch 2/100\n",
      "\u001b[1m270/270\u001b[0m \u001b[32m━━━━━━━━━━━━━━━━━━━━\u001b[0m\u001b[37m\u001b[0m \u001b[1m2s\u001b[0m 9ms/step - loss: 0.2254 - val_loss: 0.2405\n",
      "Epoch 3/100\n",
      "\u001b[1m270/270\u001b[0m \u001b[32m━━━━━━━━━━━━━━━━━━━━\u001b[0m\u001b[37m\u001b[0m \u001b[1m2s\u001b[0m 8ms/step - loss: 0.2317 - val_loss: 0.2453\n",
      "Epoch 4/100\n",
      "\u001b[1m270/270\u001b[0m \u001b[32m━━━━━━━━━━━━━━━━━━━━\u001b[0m\u001b[37m\u001b[0m \u001b[1m2s\u001b[0m 8ms/step - loss: 0.2200 - val_loss: 0.2352\n",
      "Epoch 5/100\n",
      "\u001b[1m270/270\u001b[0m \u001b[32m━━━━━━━━━━━━━━━━━━━━\u001b[0m\u001b[37m\u001b[0m \u001b[1m2s\u001b[0m 8ms/step - loss: 0.2266 - val_loss: 0.2264\n",
      "Epoch 6/100\n",
      "\u001b[1m270/270\u001b[0m \u001b[32m━━━━━━━━━━━━━━━━━━━━\u001b[0m\u001b[37m\u001b[0m \u001b[1m2s\u001b[0m 8ms/step - loss: 0.2159 - val_loss: 0.2235\n",
      "Epoch 7/100\n",
      "\u001b[1m270/270\u001b[0m \u001b[32m━━━━━━━━━━━━━━━━━━━━\u001b[0m\u001b[37m\u001b[0m \u001b[1m2s\u001b[0m 8ms/step - loss: 0.2160 - val_loss: 0.2388\n",
      "Epoch 8/100\n",
      "\u001b[1m270/270\u001b[0m \u001b[32m━━━━━━━━━━━━━━━━━━━━\u001b[0m\u001b[37m\u001b[0m \u001b[1m2s\u001b[0m 8ms/step - loss: 0.2267 - val_loss: 0.2257\n",
      "\u001b[1m145/145\u001b[0m \u001b[32m━━━━━━━━━━━━━━━━━━━━\u001b[0m\u001b[37m\u001b[0m \u001b[1m0s\u001b[0m 1ms/step\n",
      "MSE: 0.22143490883558484\n",
      "R2: 0.7844334365658723\n"
     ]
    },
    {
     "data": {
      "image/png": "[encoded data removed]",
      "text/plain": [
       "<Figure size 640x480 with 1 Axes>"
      ]
     },
     "metadata": {},
     "output_type": "display_data"
    }
   ],
   "source": [
    "import keras\n",
    "\n",
    "callback = keras.callbacks.EarlyStopping(monitor=\"loss\", patience=3)\n",
    "\n",
    "model = keras.models.Sequential()\n",
    "model.add(keras.layers.Dense(64, activation=\"relu\", input_shape=(X_train.shape[1],)))\n",
    "model.add(keras.layers.Dense(64, activation=\"relu\"))\n",
    "model.add(keras.layers.Dense(1))\n",
    "model.compile(optimizer=\"adam\", loss=\"mean_squared_error\")\n",
    "history = model.fit(X_train, y_train, validation_split=0.2, epochs=100, batch_size=32, callbacks=[callback])\n",
    "# Make predictions\n",
    "y_pred = model.predict(X_test)\n",
    "# Evaluate the model\n",
    "mse = mean_squared_error(y_test, y_pred)\n",
    "r2 = r2_score(y_test, y_pred)\n",
    "print(\"MSE:\", mse)\n",
    "print(\"R2:\", r2)\n",
    "\n",
    "plt.plot(history.history[\"loss\"], label=\"train\")\n",
    "plt.plot(history.history[\"val_loss\"], label=\"validation\")\n",
    "plt.title(\"Model Loss\")\n",
    "plt.ylabel(\"Loss\")\n",
    "plt.xlabel(\"Epoch\")\n",
    "plt.legend()\n",
    "plt.show()"
   ]
  }
 ],
 "metadata": {
  "kernelspec": {
   "display_name": "Python 3",
   "language": "python",
   "name": "python3"
  },
  "language_info": {
   "codemirror_mode": {
    "name": "ipython",
    "version": 3
   },
   "file_extension": ".py",
   "mimetype": "text/x-python",
   "name": "python",
   "nbconvert_exporter": "python",
   "pygments_lexer": "ipython3",
   "version": "3.12.7"
  }
 },
 "nbformat": 4,
 "nbformat_minor": 2
}
