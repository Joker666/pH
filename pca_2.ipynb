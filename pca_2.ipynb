{
 "cells": [
  {
   "cell_type": "code",
   "execution_count": 1,
   "metadata": {},
   "outputs": [],
   "source": [
    "import numpy as np\n",
    "import pandas as pd\n",
    "\n",
    "import matplotlib.pyplot as plt\n",
    "import plotly.express as px\n",
    "import plotly.io as pio\n",
    "\n",
    "from sklearn.preprocessing import LabelEncoder\n",
    "from sklearn.decomposition import PCA\n",
    "from sklearn.model_selection import train_test_split\n",
    "\n",
    "from lazypredict.Supervised import LazyClassifier, LazyRegressor"
   ]
  },
  {
   "cell_type": "code",
   "execution_count": 2,
   "metadata": {},
   "outputs": [
    {
     "data": {
      "application/vnd.microsoft.datawrangler.viewer.v0+json": {
       "columns": [
        {
         "name": "index",
         "rawType": "int64",
         "type": "integer"
        },
        {
         "name": "Name",
         "rawType": "object",
         "type": "string"
        },
        {
         "name": "Fertility",
         "rawType": "object",
         "type": "string"
        },
        {
         "name": "Photoperiod",
         "rawType": "object",
         "type": "string"
        },
        {
         "name": "Temperature",
         "rawType": "float64",
         "type": "float"
        },
        {
         "name": "Rainfall",
         "rawType": "float64",
         "type": "float"
        },
        {
         "name": "pH",
         "rawType": "float64",
         "type": "float"
        },
        {
         "name": "Light_Hours",
         "rawType": "float64",
         "type": "float"
        },
        {
         "name": "Light_Intensity",
         "rawType": "float64",
         "type": "float"
        },
        {
         "name": "Rh",
         "rawType": "float64",
         "type": "float"
        },
        {
         "name": "Nitrogen",
         "rawType": "float64",
         "type": "float"
        },
        {
         "name": "Phosphorus",
         "rawType": "float64",
         "type": "float"
        },
        {
         "name": "Potassium",
         "rawType": "float64",
         "type": "float"
        },
        {
         "name": "Yield",
         "rawType": "float64",
         "type": "float"
        },
        {
         "name": "Category_pH",
         "rawType": "object",
         "type": "string"
        },
        {
         "name": "Soil_Type",
         "rawType": "object",
         "type": "string"
        },
        {
         "name": "Season",
         "rawType": "object",
         "type": "string"
        },
        {
         "name": "N_Ratio",
         "rawType": "float64",
         "type": "float"
        },
        {
         "name": "P_Ratio",
         "rawType": "float64",
         "type": "float"
        },
        {
         "name": "K_Ratio",
         "rawType": "float64",
         "type": "float"
        }
       ],
       "conversionMethod": "pd.DataFrame",
       "ref": "903fb944-047a-4979-9fb5-e0200580c5f5",
       "rows": [
        [
         "0",
         "Strawberry",
         "Moderate",
         "Day Neutral",
         "20.8879227807292",
         "747.86076492044",
         "6.57154752468899",
         "13.0914833109563",
         "533.762875715672",
         "91.1971962422373",
         "170.800381404677",
         "118.670057980644",
         "243.331210634148",
         "20.3695546169975",
         "low_acidic",
         "Loam",
         "Summer",
         "10.0",
         "10.0",
         "10.0"
        ],
        [
         "1",
         "Strawberry",
         "Moderate",
         "Day Neutral",
         "18.0627208763042",
         "711.104328780634",
         "6.25180620369805",
         "13.063015951482",
         "505.789101494269",
         "91.9396233984674",
         "179.290363887292",
         "121.020244350895",
         "246.910377557939",
         "20.4027509271319",
         "low_acidic",
         "Loam",
         "Spring",
         "10.0",
         "10.0",
         "10.0"
        ],
        [
         "2",
         "Strawberry",
         "Moderate",
         "Short Day Period",
         "16.7767822552963",
         "774.038246785553",
         "6.3469156727565",
         "12.9459268199875",
         "512.985616582096",
         "91.3872855759477",
         "181.44073227001",
         "116.936805538119",
         "242.699600700321",
         "19.158846788402",
         "low_acidic",
         "Loam",
         "Summer",
         "10.0",
         "10.0",
         "10.0"
        ],
        [
         "3",
         "Strawberry",
         "Moderate",
         "Short Day Period",
         "14.2809997525734",
         "665.633505666814",
         "6.25959848479199",
         "13.3189220696776",
         "484.860066810283",
         "91.2545975077002",
         "176.165281844706",
         "122.233153458625",
         "237.096892442197",
         "20.265745094281",
         "low_acidic",
         "Loam",
         "Summer",
         "10.0",
         "10.0",
         "10.0"
        ],
        [
         "4",
         "Strawberry",
         "Moderate",
         "Day Neutral",
         "21.4444904512977",
         "806.531454859021",
         "6.3843678378872",
         "13.3129150481162",
         "512.747307023423",
         "92.3548292065441",
         "182.935333974271",
         "126.088233928844",
         "243.880363647392",
         "20.3973359855375",
         "low_acidic",
         "Loam",
         "Spring",
         "10.0",
         "10.0",
         "10.0"
        ]
       ],
       "shape": {
        "columns": 19,
        "rows": 5
       }
      },
      "text/html": [
       "<div>\n",
       "<style scoped>\n",
       "    .dataframe tbody tr th:only-of-type {\n",
       "        vertical-align: middle;\n",
       "    }\n",
       "\n",
       "    .dataframe tbody tr th {\n",
       "        vertical-align: top;\n",
       "    }\n",
       "\n",
       "    .dataframe thead th {\n",
       "        text-align: right;\n",
       "    }\n",
       "</style>\n",
       "<table border=\"1\" class=\"dataframe\">\n",
       "  <thead>\n",
       "    <tr style=\"text-align: right;\">\n",
       "      <th></th>\n",
       "      <th>Name</th>\n",
       "      <th>Fertility</th>\n",
       "      <th>Photoperiod</th>\n",
       "      <th>Temperature</th>\n",
       "      <th>Rainfall</th>\n",
       "      <th>pH</th>\n",
       "      <th>Light_Hours</th>\n",
       "      <th>Light_Intensity</th>\n",
       "      <th>Rh</th>\n",
       "      <th>Nitrogen</th>\n",
       "      <th>Phosphorus</th>\n",
       "      <th>Potassium</th>\n",
       "      <th>Yield</th>\n",
       "      <th>Category_pH</th>\n",
       "      <th>Soil_Type</th>\n",
       "      <th>Season</th>\n",
       "      <th>N_Ratio</th>\n",
       "      <th>P_Ratio</th>\n",
       "      <th>K_Ratio</th>\n",
       "    </tr>\n",
       "  </thead>\n",
       "  <tbody>\n",
       "    <tr>\n",
       "      <th>0</th>\n",
       "      <td>Strawberry</td>\n",
       "      <td>Moderate</td>\n",
       "      <td>Day Neutral</td>\n",
       "      <td>20.89</td>\n",
       "      <td>747.86</td>\n",
       "      <td>6.57</td>\n",
       "      <td>13.09</td>\n",
       "      <td>533.76</td>\n",
       "      <td>91.20</td>\n",
       "      <td>170.80</td>\n",
       "      <td>118.67</td>\n",
       "      <td>243.33</td>\n",
       "      <td>20.37</td>\n",
       "      <td>low_acidic</td>\n",
       "      <td>Loam</td>\n",
       "      <td>Summer</td>\n",
       "      <td>10.00</td>\n",
       "      <td>10.00</td>\n",
       "      <td>10.00</td>\n",
       "    </tr>\n",
       "    <tr>\n",
       "      <th>1</th>\n",
       "      <td>Strawberry</td>\n",
       "      <td>Moderate</td>\n",
       "      <td>Day Neutral</td>\n",
       "      <td>18.06</td>\n",
       "      <td>711.10</td>\n",
       "      <td>6.25</td>\n",
       "      <td>13.06</td>\n",
       "      <td>505.79</td>\n",
       "      <td>91.94</td>\n",
       "      <td>179.29</td>\n",
       "      <td>121.02</td>\n",
       "      <td>246.91</td>\n",
       "      <td>20.40</td>\n",
       "      <td>low_acidic</td>\n",
       "      <td>Loam</td>\n",
       "      <td>Spring</td>\n",
       "      <td>10.00</td>\n",
       "      <td>10.00</td>\n",
       "      <td>10.00</td>\n",
       "    </tr>\n",
       "    <tr>\n",
       "      <th>2</th>\n",
       "      <td>Strawberry</td>\n",
       "      <td>Moderate</td>\n",
       "      <td>Short Day Period</td>\n",
       "      <td>16.78</td>\n",
       "      <td>774.04</td>\n",
       "      <td>6.35</td>\n",
       "      <td>12.95</td>\n",
       "      <td>512.99</td>\n",
       "      <td>91.39</td>\n",
       "      <td>181.44</td>\n",
       "      <td>116.94</td>\n",
       "      <td>242.70</td>\n",
       "      <td>19.16</td>\n",
       "      <td>low_acidic</td>\n",
       "      <td>Loam</td>\n",
       "      <td>Summer</td>\n",
       "      <td>10.00</td>\n",
       "      <td>10.00</td>\n",
       "      <td>10.00</td>\n",
       "    </tr>\n",
       "    <tr>\n",
       "      <th>3</th>\n",
       "      <td>Strawberry</td>\n",
       "      <td>Moderate</td>\n",
       "      <td>Short Day Period</td>\n",
       "      <td>14.28</td>\n",
       "      <td>665.63</td>\n",
       "      <td>6.26</td>\n",
       "      <td>13.32</td>\n",
       "      <td>484.86</td>\n",
       "      <td>91.25</td>\n",
       "      <td>176.17</td>\n",
       "      <td>122.23</td>\n",
       "      <td>237.10</td>\n",
       "      <td>20.27</td>\n",
       "      <td>low_acidic</td>\n",
       "      <td>Loam</td>\n",
       "      <td>Summer</td>\n",
       "      <td>10.00</td>\n",
       "      <td>10.00</td>\n",
       "      <td>10.00</td>\n",
       "    </tr>\n",
       "    <tr>\n",
       "      <th>4</th>\n",
       "      <td>Strawberry</td>\n",
       "      <td>Moderate</td>\n",
       "      <td>Day Neutral</td>\n",
       "      <td>21.44</td>\n",
       "      <td>806.53</td>\n",
       "      <td>6.38</td>\n",
       "      <td>13.31</td>\n",
       "      <td>512.75</td>\n",
       "      <td>92.35</td>\n",
       "      <td>182.94</td>\n",
       "      <td>126.09</td>\n",
       "      <td>243.88</td>\n",
       "      <td>20.40</td>\n",
       "      <td>low_acidic</td>\n",
       "      <td>Loam</td>\n",
       "      <td>Spring</td>\n",
       "      <td>10.00</td>\n",
       "      <td>10.00</td>\n",
       "      <td>10.00</td>\n",
       "    </tr>\n",
       "  </tbody>\n",
       "</table>\n",
       "</div>"
      ],
      "text/plain": [
       "         Name Fertility       Photoperiod  Temperature  Rainfall   pH  \\\n",
       "0  Strawberry  Moderate       Day Neutral        20.89    747.86 6.57   \n",
       "1  Strawberry  Moderate       Day Neutral        18.06    711.10 6.25   \n",
       "2  Strawberry  Moderate  Short Day Period        16.78    774.04 6.35   \n",
       "3  Strawberry  Moderate  Short Day Period        14.28    665.63 6.26   \n",
       "4  Strawberry  Moderate       Day Neutral        21.44    806.53 6.38   \n",
       "\n",
       "   Light_Hours  Light_Intensity    Rh  Nitrogen  Phosphorus  Potassium  Yield  \\\n",
       "0        13.09           533.76 91.20    170.80      118.67     243.33  20.37   \n",
       "1        13.06           505.79 91.94    179.29      121.02     246.91  20.40   \n",
       "2        12.95           512.99 91.39    181.44      116.94     242.70  19.16   \n",
       "3        13.32           484.86 91.25    176.17      122.23     237.10  20.27   \n",
       "4        13.31           512.75 92.35    182.94      126.09     243.88  20.40   \n",
       "\n",
       "  Category_pH Soil_Type  Season  N_Ratio  P_Ratio  K_Ratio  \n",
       "0  low_acidic      Loam  Summer    10.00    10.00    10.00  \n",
       "1  low_acidic      Loam  Spring    10.00    10.00    10.00  \n",
       "2  low_acidic      Loam  Summer    10.00    10.00    10.00  \n",
       "3  low_acidic      Loam  Summer    10.00    10.00    10.00  \n",
       "4  low_acidic      Loam  Spring    10.00    10.00    10.00  "
      ]
     },
     "execution_count": 2,
     "metadata": {},
     "output_type": "execute_result"
    }
   ],
   "source": [
    "df = pd.read_csv(\"./Soil Nutrients.csv\")\n",
    "df.head()"
   ]
  },
  {
   "cell_type": "code",
   "execution_count": 3,
   "metadata": {},
   "outputs": [],
   "source": [
    "df = df.drop(columns=[\"pH\"])"
   ]
  },
  {
   "cell_type": "code",
   "execution_count": 4,
   "metadata": {},
   "outputs": [],
   "source": [
    "encoder = LabelEncoder()\n",
    "label_mappings = {}\n",
    "\n",
    "for column in df.select_dtypes(\"object\"):\n",
    "    df[column] = encoder.fit_transform(df[column])\n",
    "    label_mappings[column] = dict(zip(encoder.classes_, encoder.transform(encoder.classes_)))"
   ]
  },
  {
   "cell_type": "code",
   "execution_count": 6,
   "metadata": {},
   "outputs": [
    {
     "data": {
      "application/vnd.microsoft.datawrangler.viewer.v0+json": {
       "columns": [
        {
         "name": "index",
         "rawType": "int64",
         "type": "integer"
        },
        {
         "name": "PCA Component 1",
         "rawType": "float64",
         "type": "float"
        },
        {
         "name": "PCA Component 2",
         "rawType": "float64",
         "type": "float"
        },
        {
         "name": "PCA Component 3",
         "rawType": "float64",
         "type": "float"
        }
       ],
       "conversionMethod": "pd.DataFrame",
       "ref": "f432619b-3335-4cfe-9e22-1e0fe6e37c56",
       "rows": [
        [
         "0",
         "-225.05593524407675",
         "111.94679612306538",
         "2.585253687256113"
        ],
        [
         "1",
         "-257.67595270255083",
         "81.99841679429312",
         "18.378389675983243"
        ],
        [
         "2",
         "-196.43335031870708",
         "98.36127253288373",
         "15.554218020572108"
        ],
        [
         "3",
         "-298.200919595639",
         "51.10810004622988",
         "15.538081059321087"
        ],
        [
         "4",
         "-165.34934955874974",
         "105.31892859225013",
         "21.774331799161843"
        ],
        [
         "5",
         "-249.637266443067",
         "71.90505072176722",
         "18.777047856127723"
        ],
        [
         "6",
         "-183.25656546307607",
         "53.943260859973975",
         "25.966148823191702"
        ],
        [
         "7",
         "-254.31915891430947",
         "74.99194690645311",
         "13.331204300458722"
        ],
        [
         "8",
         "-251.83266799388537",
         "106.32451559462993",
         "-8.669351796142593"
        ],
        [
         "9",
         "-145.08827211067864",
         "91.63709390055703",
         "16.077431493868573"
        ],
        [
         "10",
         "-275.59880268308666",
         "69.80684561724092",
         "7.208630726111124"
        ],
        [
         "11",
         "-204.6134205706354",
         "58.09088610142578",
         "29.670259753264332"
        ],
        [
         "12",
         "-227.08093496879985",
         "69.14374243507257",
         "20.07563966697009"
        ],
        [
         "13",
         "-219.11647725904902",
         "150.611410315307",
         "-3.462447534057304"
        ],
        [
         "14",
         "-252.40111639741963",
         "106.42236546212973",
         "-0.8604698843111294"
        ],
        [
         "15",
         "-163.3155144343756",
         "66.4493905641724",
         "30.38647161445911"
        ],
        [
         "16",
         "-227.16511244946707",
         "112.01914635009814",
         "5.755214824281978"
        ],
        [
         "17",
         "-328.98398998628613",
         "106.70921926120764",
         "-8.386146277655001"
        ],
        [
         "18",
         "-210.07639452838418",
         "76.66106216452158",
         "14.631674459659934"
        ],
        [
         "19",
         "-248.5261395147278",
         "31.516219702836224",
         "21.486971397145453"
        ],
        [
         "20",
         "-237.81895241039513",
         "108.43593120063747",
         "8.314503641926962"
        ],
        [
         "21",
         "-188.6729745055402",
         "91.6387836384207",
         "12.263384017071559"
        ],
        [
         "22",
         "-187.70843562606524",
         "146.17899415722275",
         "-11.351225179076721"
        ],
        [
         "23",
         "-117.09173075269734",
         "76.24680993151412",
         "25.95387748698306"
        ],
        [
         "24",
         "-207.3753707005136",
         "41.2049173470042",
         "24.15765889960238"
        ],
        [
         "25",
         "-226.8403690570941",
         "96.18279655088566",
         "12.335741227989558"
        ],
        [
         "26",
         "-245.36125462956818",
         "86.08283383107982",
         "7.3915893004298425"
        ],
        [
         "27",
         "-198.74893814046686",
         "99.49090995815732",
         "8.646339316398723"
        ],
        [
         "28",
         "-281.5082475702461",
         "169.03899996591167",
         "-32.40500849351477"
        ],
        [
         "29",
         "-252.43372659881152",
         "59.27721588207328",
         "19.636709096848307"
        ],
        [
         "30",
         "-237.7465405841142",
         "145.14046107457568",
         "-17.621903671244326"
        ],
        [
         "31",
         "-231.29978309917874",
         "80.71456432941466",
         "16.799655861582835"
        ],
        [
         "32",
         "-224.12980922933082",
         "113.5574823792067",
         "-0.9547407378139781"
        ],
        [
         "33",
         "-294.87314448302016",
         "133.70492022630867",
         "-17.45676270605226"
        ],
        [
         "34",
         "-200.9351560534866",
         "58.35211958200637",
         "15.704403566031061"
        ],
        [
         "35",
         "-168.43813734569244",
         "79.37408669993499",
         "13.968352342050622"
        ],
        [
         "36",
         "-175.0010941377942",
         "65.45019337657607",
         "20.334124988680173"
        ],
        [
         "37",
         "-244.40262144201085",
         "91.23695439355879",
         "3.4609108611254555"
        ],
        [
         "38",
         "-226.8005754335278",
         "117.7259504630091",
         "-2.348050363909806"
        ],
        [
         "39",
         "-285.4805123922289",
         "117.68546917851427",
         "-8.41424083793953"
        ],
        [
         "40",
         "-225.9495779533505",
         "79.46987987797013",
         "28.577658232149588"
        ],
        [
         "41",
         "-236.32362614237377",
         "93.76397013437054",
         "6.012232382186994"
        ],
        [
         "42",
         "-225.69845963314356",
         "87.7070358672197",
         "18.9997781313117"
        ],
        [
         "43",
         "-161.1486348432561",
         "107.59267285593182",
         "5.939376039296633"
        ],
        [
         "44",
         "-188.2321314020694",
         "69.06659574897401",
         "34.678139245198764"
        ],
        [
         "45",
         "-170.0244395007261",
         "110.79285138436899",
         "2.563903698746117"
        ],
        [
         "46",
         "-157.38377103296807",
         "47.82550827233149",
         "28.573275811749113"
        ],
        [
         "47",
         "-269.5663052877105",
         "99.74590742968076",
         "-7.252521908243125"
        ],
        [
         "48",
         "-235.17810589861358",
         "62.697273773601296",
         "12.939211801445651"
        ],
        [
         "49",
         "-312.1495395509006",
         "56.74950304889853",
         "3.112442593576475"
        ]
       ],
       "shape": {
        "columns": 3,
        "rows": 15400
       }
      },
      "text/html": [
       "<div>\n",
       "<style scoped>\n",
       "    .dataframe tbody tr th:only-of-type {\n",
       "        vertical-align: middle;\n",
       "    }\n",
       "\n",
       "    .dataframe tbody tr th {\n",
       "        vertical-align: top;\n",
       "    }\n",
       "\n",
       "    .dataframe thead th {\n",
       "        text-align: right;\n",
       "    }\n",
       "</style>\n",
       "<table border=\"1\" class=\"dataframe\">\n",
       "  <thead>\n",
       "    <tr style=\"text-align: right;\">\n",
       "      <th></th>\n",
       "      <th>PCA Component 1</th>\n",
       "      <th>PCA Component 2</th>\n",
       "      <th>PCA Component 3</th>\n",
       "    </tr>\n",
       "  </thead>\n",
       "  <tbody>\n",
       "    <tr>\n",
       "      <th>0</th>\n",
       "      <td>-225.06</td>\n",
       "      <td>111.95</td>\n",
       "      <td>2.59</td>\n",
       "    </tr>\n",
       "    <tr>\n",
       "      <th>1</th>\n",
       "      <td>-257.68</td>\n",
       "      <td>82.00</td>\n",
       "      <td>18.38</td>\n",
       "    </tr>\n",
       "    <tr>\n",
       "      <th>2</th>\n",
       "      <td>-196.43</td>\n",
       "      <td>98.36</td>\n",
       "      <td>15.55</td>\n",
       "    </tr>\n",
       "    <tr>\n",
       "      <th>3</th>\n",
       "      <td>-298.20</td>\n",
       "      <td>51.11</td>\n",
       "      <td>15.54</td>\n",
       "    </tr>\n",
       "    <tr>\n",
       "      <th>4</th>\n",
       "      <td>-165.35</td>\n",
       "      <td>105.32</td>\n",
       "      <td>21.77</td>\n",
       "    </tr>\n",
       "    <tr>\n",
       "      <th>...</th>\n",
       "      <td>...</td>\n",
       "      <td>...</td>\n",
       "      <td>...</td>\n",
       "    </tr>\n",
       "    <tr>\n",
       "      <th>15395</th>\n",
       "      <td>149.93</td>\n",
       "      <td>-75.23</td>\n",
       "      <td>-19.28</td>\n",
       "    </tr>\n",
       "    <tr>\n",
       "      <th>15396</th>\n",
       "      <td>26.97</td>\n",
       "      <td>-71.11</td>\n",
       "      <td>-43.27</td>\n",
       "    </tr>\n",
       "    <tr>\n",
       "      <th>15397</th>\n",
       "      <td>20.91</td>\n",
       "      <td>-96.60</td>\n",
       "      <td>-34.71</td>\n",
       "    </tr>\n",
       "    <tr>\n",
       "      <th>15398</th>\n",
       "      <td>-58.44</td>\n",
       "      <td>-130.25</td>\n",
       "      <td>-33.12</td>\n",
       "    </tr>\n",
       "    <tr>\n",
       "      <th>15399</th>\n",
       "      <td>83.37</td>\n",
       "      <td>-38.31</td>\n",
       "      <td>-50.90</td>\n",
       "    </tr>\n",
       "  </tbody>\n",
       "</table>\n",
       "<p>15400 rows × 3 columns</p>\n",
       "</div>"
      ],
      "text/plain": [
       "       PCA Component 1  PCA Component 2  PCA Component 3\n",
       "0              -225.06           111.95             2.59\n",
       "1              -257.68            82.00            18.38\n",
       "2              -196.43            98.36            15.55\n",
       "3              -298.20            51.11            15.54\n",
       "4              -165.35           105.32            21.77\n",
       "...                ...              ...              ...\n",
       "15395           149.93           -75.23           -19.28\n",
       "15396            26.97           -71.11           -43.27\n",
       "15397            20.91           -96.60           -34.71\n",
       "15398           -58.44          -130.25           -33.12\n",
       "15399            83.37           -38.31           -50.90\n",
       "\n",
       "[15400 rows x 3 columns]"
      ]
     },
     "execution_count": 6,
     "metadata": {},
     "output_type": "execute_result"
    }
   ],
   "source": [
    "pca = PCA(n_components=3)\n",
    "pca_soil_nutrients = pca.fit_transform(df.drop(columns=[\"Category_pH\"]))\n",
    "pca_soil_nutrients = pd.DataFrame(\n",
    "    data=pca_soil_nutrients, columns=[\"PCA Component 1\", \"PCA Component 2\", \"PCA Component 3\"]\n",
    ")\n",
    "pca_soil_nutrients"
   ]
  },
  {
   "cell_type": "code",
   "execution_count": 7,
   "metadata": {},
   "outputs": [],
   "source": [
    "pca_soil_nutrients[\"Category_pH\"] = df[\"Category_pH\"]"
   ]
  },
  {
   "cell_type": "code",
   "execution_count": 8,
   "metadata": {},
   "outputs": [],
   "source": [
    "class CropClassifier:\n",
    "    def __init__(self, data, features_for_classification, test_size=0.2, random_state=42):\n",
    "        self.data = data\n",
    "        self.features_for_classification = features_for_classification\n",
    "        self.test_size = test_size\n",
    "        self.random_state = random_state\n",
    "\n",
    "        self.features = self.data.drop(self.features_for_classification, axis=1)\n",
    "        self.targets = self.data[self.features_for_classification]\n",
    "        self.features_train, self.features_test, self.targets_train, self.targets_test = train_test_split(\n",
    "            self.features, self.targets, test_size=self.test_size, random_state=self.random_state, stratify=self.targets\n",
    "        )\n",
    "\n",
    "        self.lazyClassifier = LazyClassifier(verbose=0, ignore_warnings=True, custom_metric=None)\n",
    "        self.models = None\n",
    "        self.predictions = None\n",
    "\n",
    "    def fit(self):\n",
    "        self.models, self.predictions = self.lazyClassifier.fit(\n",
    "            self.features_train, self.features_test, self.targets_train, self.targets_test\n",
    "        )\n",
    "\n",
    "    def get_models(self):\n",
    "        return self.models\n",
    "\n",
    "    def get_predictions(self):\n",
    "        return self.predictions"
   ]
  },
  {
   "cell_type": "code",
   "execution_count": 9,
   "metadata": {},
   "outputs": [
    {
     "name": "stderr",
     "output_type": "stream",
     "text": [
      " 97%|█████████▋| 30/31 [00:12<00:00,  2.66it/s]"
     ]
    },
    {
     "name": "stdout",
     "output_type": "stream",
     "text": [
      "[LightGBM] [Info] Auto-choosing col-wise multi-threading, the overhead of testing was 0.000219 seconds.\n",
      "You can set `force_col_wise=true` to remove the overhead.\n",
      "[LightGBM] [Info] Total Bins 765\n",
      "[LightGBM] [Info] Number of data points in the train set: 12320, number of used features: 3\n",
      "[LightGBM] [Info] Start training from score -0.486635\n",
      "[LightGBM] [Info] Start training from score -2.673743\n",
      "[LightGBM] [Info] Start training from score -1.151017\n"
     ]
    },
    {
     "name": "stderr",
     "output_type": "stream",
     "text": [
      "100%|██████████| 31/31 [00:13<00:00,  2.35it/s]\n"
     ]
    }
   ],
   "source": [
    "cropClassifier = CropClassifier(pca_soil_nutrients, [\"Category_pH\"])\n",
    "cropClassifier.fit()"
   ]
  },
  {
   "cell_type": "code",
   "execution_count": 10,
   "metadata": {},
   "outputs": [
    {
     "data": {
      "text/html": [
       "<style type=\"text/css\">\n",
       "</style>\n",
       "<table id=\"T_80539\">\n",
       "  <thead>\n",
       "    <tr>\n",
       "      <th class=\"blank level0\" >&nbsp;</th>\n",
       "      <th id=\"T_80539_level0_col0\" class=\"col_heading level0 col0\" >Accuracy</th>\n",
       "      <th id=\"T_80539_level0_col1\" class=\"col_heading level0 col1\" >Balanced Accuracy</th>\n",
       "      <th id=\"T_80539_level0_col2\" class=\"col_heading level0 col2\" >ROC AUC</th>\n",
       "      <th id=\"T_80539_level0_col3\" class=\"col_heading level0 col3\" >F1 Score</th>\n",
       "      <th id=\"T_80539_level0_col4\" class=\"col_heading level0 col4\" >Time Taken</th>\n",
       "    </tr>\n",
       "    <tr>\n",
       "      <th class=\"index_name level0\" >Model</th>\n",
       "      <th class=\"blank col0\" >&nbsp;</th>\n",
       "      <th class=\"blank col1\" >&nbsp;</th>\n",
       "      <th class=\"blank col2\" >&nbsp;</th>\n",
       "      <th class=\"blank col3\" >&nbsp;</th>\n",
       "      <th class=\"blank col4\" >&nbsp;</th>\n",
       "    </tr>\n",
       "  </thead>\n",
       "  <tbody>\n",
       "    <tr>\n",
       "      <th id=\"T_80539_level0_row0\" class=\"row_heading level0 row0\" >ExtraTreeClassifier</th>\n",
       "      <td id=\"T_80539_row0_col0\" class=\"data row0 col0\" >0.61364</td>\n",
       "      <td id=\"T_80539_row0_col1\" class=\"data row0 col1\" >0.51667</td>\n",
       "      <td id=\"T_80539_row0_col2\" class=\"data row0 col2\" >None</td>\n",
       "      <td id=\"T_80539_row0_col3\" class=\"data row0 col3\" >0.61640</td>\n",
       "      <td id=\"T_80539_row0_col4\" class=\"data row0 col4\" >0.01417</td>\n",
       "    </tr>\n",
       "    <tr>\n",
       "      <th id=\"T_80539_level0_row1\" class=\"row_heading level0 row1\" >LGBMClassifier</th>\n",
       "      <td id=\"T_80539_row1_col0\" class=\"data row1 col0\" >0.62273</td>\n",
       "      <td id=\"T_80539_row1_col1\" class=\"data row1 col1\" >0.51407</td>\n",
       "      <td id=\"T_80539_row1_col2\" class=\"data row1 col2\" >None</td>\n",
       "      <td id=\"T_80539_row1_col3\" class=\"data row1 col3\" >0.62039</td>\n",
       "      <td id=\"T_80539_row1_col4\" class=\"data row1 col4\" >1.02482</td>\n",
       "    </tr>\n",
       "    <tr>\n",
       "      <th id=\"T_80539_level0_row2\" class=\"row_heading level0 row2\" >PassiveAggressiveClassifier</th>\n",
       "      <td id=\"T_80539_row2_col0\" class=\"data row2 col0\" >0.54253</td>\n",
       "      <td id=\"T_80539_row2_col1\" class=\"data row2 col1\" >0.51123</td>\n",
       "      <td id=\"T_80539_row2_col2\" class=\"data row2 col2\" >None</td>\n",
       "      <td id=\"T_80539_row2_col3\" class=\"data row2 col3\" >0.51819</td>\n",
       "      <td id=\"T_80539_row2_col4\" class=\"data row2 col4\" >0.19935</td>\n",
       "    </tr>\n",
       "    <tr>\n",
       "      <th id=\"T_80539_level0_row3\" class=\"row_heading level0 row3\" >KNeighborsClassifier</th>\n",
       "      <td id=\"T_80539_row3_col0\" class=\"data row3 col0\" >0.62792</td>\n",
       "      <td id=\"T_80539_row3_col1\" class=\"data row3 col1\" >0.50988</td>\n",
       "      <td id=\"T_80539_row3_col2\" class=\"data row3 col2\" >None</td>\n",
       "      <td id=\"T_80539_row3_col3\" class=\"data row3 col3\" >0.62419</td>\n",
       "      <td id=\"T_80539_row3_col4\" class=\"data row3 col4\" >0.05196</td>\n",
       "    </tr>\n",
       "    <tr>\n",
       "      <th id=\"T_80539_level0_row4\" class=\"row_heading level0 row4\" >NearestCentroid</th>\n",
       "      <td id=\"T_80539_row4_col0\" class=\"data row4 col0\" >0.50519</td>\n",
       "      <td id=\"T_80539_row4_col1\" class=\"data row4 col1\" >0.50725</td>\n",
       "      <td id=\"T_80539_row4_col2\" class=\"data row4 col2\" >None</td>\n",
       "      <td id=\"T_80539_row4_col3\" class=\"data row4 col3\" >0.54195</td>\n",
       "      <td id=\"T_80539_row4_col4\" class=\"data row4 col4\" >0.07533</td>\n",
       "    </tr>\n",
       "    <tr>\n",
       "      <th id=\"T_80539_level0_row5\" class=\"row_heading level0 row5\" >XGBClassifier</th>\n",
       "      <td id=\"T_80539_row5_col0\" class=\"data row5 col0\" >0.62630</td>\n",
       "      <td id=\"T_80539_row5_col1\" class=\"data row5 col1\" >0.50695</td>\n",
       "      <td id=\"T_80539_row5_col2\" class=\"data row5 col2\" >None</td>\n",
       "      <td id=\"T_80539_row5_col3\" class=\"data row5 col3\" >0.62231</td>\n",
       "      <td id=\"T_80539_row5_col4\" class=\"data row5 col4\" >0.42741</td>\n",
       "    </tr>\n",
       "    <tr>\n",
       "      <th id=\"T_80539_level0_row6\" class=\"row_heading level0 row6\" >RandomForestClassifier</th>\n",
       "      <td id=\"T_80539_row6_col0\" class=\"data row6 col0\" >0.62630</td>\n",
       "      <td id=\"T_80539_row6_col1\" class=\"data row6 col1\" >0.50528</td>\n",
       "      <td id=\"T_80539_row6_col2\" class=\"data row6 col2\" >None</td>\n",
       "      <td id=\"T_80539_row6_col3\" class=\"data row6 col3\" >0.62227</td>\n",
       "      <td id=\"T_80539_row6_col4\" class=\"data row6 col4\" >1.24164</td>\n",
       "    </tr>\n",
       "    <tr>\n",
       "      <th id=\"T_80539_level0_row7\" class=\"row_heading level0 row7\" >BaggingClassifier</th>\n",
       "      <td id=\"T_80539_row7_col0\" class=\"data row7 col0\" >0.62890</td>\n",
       "      <td id=\"T_80539_row7_col1\" class=\"data row7 col1\" >0.50133</td>\n",
       "      <td id=\"T_80539_row7_col2\" class=\"data row7 col2\" >None</td>\n",
       "      <td id=\"T_80539_row7_col3\" class=\"data row7 col3\" >0.61801</td>\n",
       "      <td id=\"T_80539_row7_col4\" class=\"data row7 col4\" >0.29029</td>\n",
       "    </tr>\n",
       "    <tr>\n",
       "      <th id=\"T_80539_level0_row8\" class=\"row_heading level0 row8\" >DecisionTreeClassifier</th>\n",
       "      <td id=\"T_80539_row8_col0\" class=\"data row8 col0\" >0.61948</td>\n",
       "      <td id=\"T_80539_row8_col1\" class=\"data row8 col1\" >0.49052</td>\n",
       "      <td id=\"T_80539_row8_col2\" class=\"data row8 col2\" >None</td>\n",
       "      <td id=\"T_80539_row8_col3\" class=\"data row8 col3\" >0.61744</td>\n",
       "      <td id=\"T_80539_row8_col4\" class=\"data row8 col4\" >0.06064</td>\n",
       "    </tr>\n",
       "    <tr>\n",
       "      <th id=\"T_80539_level0_row9\" class=\"row_heading level0 row9\" >ExtraTreesClassifier</th>\n",
       "      <td id=\"T_80539_row9_col0\" class=\"data row9 col0\" >0.61688</td>\n",
       "      <td id=\"T_80539_row9_col1\" class=\"data row9 col1\" >0.48979</td>\n",
       "      <td id=\"T_80539_row9_col2\" class=\"data row9 col2\" >None</td>\n",
       "      <td id=\"T_80539_row9_col3\" class=\"data row9 col3\" >0.61320</td>\n",
       "      <td id=\"T_80539_row9_col4\" class=\"data row9 col4\" >0.58019</td>\n",
       "    </tr>\n",
       "    <tr>\n",
       "      <th id=\"T_80539_level0_row10\" class=\"row_heading level0 row10\" >QuadraticDiscriminantAnalysis</th>\n",
       "      <td id=\"T_80539_row10_col0\" class=\"data row10 col0\" >0.61721</td>\n",
       "      <td id=\"T_80539_row10_col1\" class=\"data row10 col1\" >0.46874</td>\n",
       "      <td id=\"T_80539_row10_col2\" class=\"data row10 col2\" >None</td>\n",
       "      <td id=\"T_80539_row10_col3\" class=\"data row10 col3\" >0.54442</td>\n",
       "      <td id=\"T_80539_row10_col4\" class=\"data row10 col4\" >0.01110</td>\n",
       "    </tr>\n",
       "    <tr>\n",
       "      <th id=\"T_80539_level0_row11\" class=\"row_heading level0 row11\" >AdaBoostClassifier</th>\n",
       "      <td id=\"T_80539_row11_col0\" class=\"data row11 col0\" >0.62208</td>\n",
       "      <td id=\"T_80539_row11_col1\" class=\"data row11 col1\" >0.44869</td>\n",
       "      <td id=\"T_80539_row11_col2\" class=\"data row11 col2\" >None</td>\n",
       "      <td id=\"T_80539_row11_col3\" class=\"data row11 col3\" >0.58778</td>\n",
       "      <td id=\"T_80539_row11_col4\" class=\"data row11 col4\" >0.32021</td>\n",
       "    </tr>\n",
       "    <tr>\n",
       "      <th id=\"T_80539_level0_row12\" class=\"row_heading level0 row12\" >LabelPropagation</th>\n",
       "      <td id=\"T_80539_row12_col0\" class=\"data row12 col0\" >0.62240</td>\n",
       "      <td id=\"T_80539_row12_col1\" class=\"data row12 col1\" >0.43191</td>\n",
       "      <td id=\"T_80539_row12_col2\" class=\"data row12 col2\" >None</td>\n",
       "      <td id=\"T_80539_row12_col3\" class=\"data row12 col3\" >0.59240</td>\n",
       "      <td id=\"T_80539_row12_col4\" class=\"data row12 col4\" >2.03121</td>\n",
       "    </tr>\n",
       "    <tr>\n",
       "      <th id=\"T_80539_level0_row13\" class=\"row_heading level0 row13\" >LabelSpreading</th>\n",
       "      <td id=\"T_80539_row13_col0\" class=\"data row13 col0\" >0.62240</td>\n",
       "      <td id=\"T_80539_row13_col1\" class=\"data row13 col1\" >0.42842</td>\n",
       "      <td id=\"T_80539_row13_col2\" class=\"data row13 col2\" >None</td>\n",
       "      <td id=\"T_80539_row13_col3\" class=\"data row13 col3\" >0.58777</td>\n",
       "      <td id=\"T_80539_row13_col4\" class=\"data row13 col4\" >4.01786</td>\n",
       "    </tr>\n",
       "    <tr>\n",
       "      <th id=\"T_80539_level0_row14\" class=\"row_heading level0 row14\" >GaussianNB</th>\n",
       "      <td id=\"T_80539_row14_col0\" class=\"data row14 col0\" >0.61461</td>\n",
       "      <td id=\"T_80539_row14_col1\" class=\"data row14 col1\" >0.40636</td>\n",
       "      <td id=\"T_80539_row14_col2\" class=\"data row14 col2\" >None</td>\n",
       "      <td id=\"T_80539_row14_col3\" class=\"data row14 col3\" >0.51670</td>\n",
       "      <td id=\"T_80539_row14_col4\" class=\"data row14 col4\" >0.00922</td>\n",
       "    </tr>\n",
       "    <tr>\n",
       "      <th id=\"T_80539_level0_row15\" class=\"row_heading level0 row15\" >LinearDiscriminantAnalysis</th>\n",
       "      <td id=\"T_80539_row15_col0\" class=\"data row15 col0\" >0.61688</td>\n",
       "      <td id=\"T_80539_row15_col1\" class=\"data row15 col1\" >0.39340</td>\n",
       "      <td id=\"T_80539_row15_col2\" class=\"data row15 col2\" >None</td>\n",
       "      <td id=\"T_80539_row15_col3\" class=\"data row15 col3\" >0.53031</td>\n",
       "      <td id=\"T_80539_row15_col4\" class=\"data row15 col4\" >0.03170</td>\n",
       "    </tr>\n",
       "    <tr>\n",
       "      <th id=\"T_80539_level0_row16\" class=\"row_heading level0 row16\" >CalibratedClassifierCV</th>\n",
       "      <td id=\"T_80539_row16_col0\" class=\"data row16 col0\" >0.60779</td>\n",
       "      <td id=\"T_80539_row16_col1\" class=\"data row16 col1\" >0.38473</td>\n",
       "      <td id=\"T_80539_row16_col2\" class=\"data row16 col2\" >None</td>\n",
       "      <td id=\"T_80539_row16_col3\" class=\"data row16 col3\" >0.53440</td>\n",
       "      <td id=\"T_80539_row16_col4\" class=\"data row16 col4\" >0.06066</td>\n",
       "    </tr>\n",
       "    <tr>\n",
       "      <th id=\"T_80539_level0_row17\" class=\"row_heading level0 row17\" >LogisticRegression</th>\n",
       "      <td id=\"T_80539_row17_col0\" class=\"data row17 col0\" >0.60877</td>\n",
       "      <td id=\"T_80539_row17_col1\" class=\"data row17 col1\" >0.38309</td>\n",
       "      <td id=\"T_80539_row17_col2\" class=\"data row17 col2\" >None</td>\n",
       "      <td id=\"T_80539_row17_col3\" class=\"data row17 col3\" >0.53781</td>\n",
       "      <td id=\"T_80539_row17_col4\" class=\"data row17 col4\" >0.07040</td>\n",
       "    </tr>\n",
       "    <tr>\n",
       "      <th id=\"T_80539_level0_row18\" class=\"row_heading level0 row18\" >SVC</th>\n",
       "      <td id=\"T_80539_row18_col0\" class=\"data row18 col0\" >0.63409</td>\n",
       "      <td id=\"T_80539_row18_col1\" class=\"data row18 col1\" >0.37048</td>\n",
       "      <td id=\"T_80539_row18_col2\" class=\"data row18 col2\" >None</td>\n",
       "      <td id=\"T_80539_row18_col3\" class=\"data row18 col3\" >0.55435</td>\n",
       "      <td id=\"T_80539_row18_col4\" class=\"data row18 col4\" >2.35576</td>\n",
       "    </tr>\n",
       "    <tr>\n",
       "      <th id=\"T_80539_level0_row19\" class=\"row_heading level0 row19\" >BernoulliNB</th>\n",
       "      <td id=\"T_80539_row19_col0\" class=\"data row19 col0\" >0.62013</td>\n",
       "      <td id=\"T_80539_row19_col1\" class=\"data row19 col1\" >0.36357</td>\n",
       "      <td id=\"T_80539_row19_col2\" class=\"data row19 col2\" >None</td>\n",
       "      <td id=\"T_80539_row19_col3\" class=\"data row19 col3\" >0.54301</td>\n",
       "      <td id=\"T_80539_row19_col4\" class=\"data row19 col4\" >0.01090</td>\n",
       "    </tr>\n",
       "    <tr>\n",
       "      <th id=\"T_80539_level0_row20\" class=\"row_heading level0 row20\" >LinearSVC</th>\n",
       "      <td id=\"T_80539_row20_col0\" class=\"data row20 col0\" >0.61753</td>\n",
       "      <td id=\"T_80539_row20_col1\" class=\"data row20 col1\" >0.35087</td>\n",
       "      <td id=\"T_80539_row20_col2\" class=\"data row20 col2\" >None</td>\n",
       "      <td id=\"T_80539_row20_col3\" class=\"data row20 col3\" >0.51594</td>\n",
       "      <td id=\"T_80539_row20_col4\" class=\"data row20 col4\" >0.11461</td>\n",
       "    </tr>\n",
       "    <tr>\n",
       "      <th id=\"T_80539_level0_row21\" class=\"row_heading level0 row21\" >RidgeClassifier</th>\n",
       "      <td id=\"T_80539_row21_col0\" class=\"data row21 col0\" >0.61851</td>\n",
       "      <td id=\"T_80539_row21_col1\" class=\"data row21 col1\" >0.34924</td>\n",
       "      <td id=\"T_80539_row21_col2\" class=\"data row21 col2\" >None</td>\n",
       "      <td id=\"T_80539_row21_col3\" class=\"data row21 col3\" >0.51129</td>\n",
       "      <td id=\"T_80539_row21_col4\" class=\"data row21 col4\" >0.01204</td>\n",
       "    </tr>\n",
       "    <tr>\n",
       "      <th id=\"T_80539_level0_row22\" class=\"row_heading level0 row22\" >RidgeClassifierCV</th>\n",
       "      <td id=\"T_80539_row22_col0\" class=\"data row22 col0\" >0.61851</td>\n",
       "      <td id=\"T_80539_row22_col1\" class=\"data row22 col1\" >0.34924</td>\n",
       "      <td id=\"T_80539_row22_col2\" class=\"data row22 col2\" >None</td>\n",
       "      <td id=\"T_80539_row22_col3\" class=\"data row22 col3\" >0.51129</td>\n",
       "      <td id=\"T_80539_row22_col4\" class=\"data row22 col4\" >0.01359</td>\n",
       "    </tr>\n",
       "    <tr>\n",
       "      <th id=\"T_80539_level0_row23\" class=\"row_heading level0 row23\" >DummyClassifier</th>\n",
       "      <td id=\"T_80539_row23_col0\" class=\"data row23 col0\" >0.61461</td>\n",
       "      <td id=\"T_80539_row23_col1\" class=\"data row23 col1\" >0.33333</td>\n",
       "      <td id=\"T_80539_row23_col2\" class=\"data row23 col2\" >None</td>\n",
       "      <td id=\"T_80539_row23_col3\" class=\"data row23 col3\" >0.46791</td>\n",
       "      <td id=\"T_80539_row23_col4\" class=\"data row23 col4\" >0.00803</td>\n",
       "    </tr>\n",
       "    <tr>\n",
       "      <th id=\"T_80539_level0_row24\" class=\"row_heading level0 row24\" >SGDClassifier</th>\n",
       "      <td id=\"T_80539_row24_col0\" class=\"data row24 col0\" >0.61461</td>\n",
       "      <td id=\"T_80539_row24_col1\" class=\"data row24 col1\" >0.33333</td>\n",
       "      <td id=\"T_80539_row24_col2\" class=\"data row24 col2\" >None</td>\n",
       "      <td id=\"T_80539_row24_col3\" class=\"data row24 col3\" >0.46791</td>\n",
       "      <td id=\"T_80539_row24_col4\" class=\"data row24 col4\" >0.06368</td>\n",
       "    </tr>\n",
       "    <tr>\n",
       "      <th id=\"T_80539_level0_row25\" class=\"row_heading level0 row25\" >Perceptron</th>\n",
       "      <td id=\"T_80539_row25_col0\" class=\"data row25 col0\" >0.41656</td>\n",
       "      <td id=\"T_80539_row25_col1\" class=\"data row25 col1\" >0.30410</td>\n",
       "      <td id=\"T_80539_row25_col2\" class=\"data row25 col2\" >None</td>\n",
       "      <td id=\"T_80539_row25_col3\" class=\"data row25 col3\" >0.41041</td>\n",
       "      <td id=\"T_80539_row25_col4\" class=\"data row25 col4\" >0.04401</td>\n",
       "    </tr>\n",
       "  </tbody>\n",
       "</table>\n"
      ],
      "text/plain": [
       "<pandas.io.formats.style.Styler at 0x30ffb00e0>"
      ]
     },
     "execution_count": 10,
     "metadata": {},
     "output_type": "execute_result"
    }
   ],
   "source": [
    "models = cropClassifier.get_models().style.format(precision=5)\n",
    "models"
   ]
  }
 ],
 "metadata": {
  "kernelspec": {
   "display_name": "Python 3",
   "language": "python",
   "name": "python3"
  },
  "language_info": {
   "codemirror_mode": {
    "name": "ipython",
    "version": 3
   },
   "file_extension": ".py",
   "mimetype": "text/x-python",
   "name": "python",
   "nbconvert_exporter": "python",
   "pygments_lexer": "ipython3",
   "version": "3.12.7"
  }
 },
 "nbformat": 4,
 "nbformat_minor": 2
}
